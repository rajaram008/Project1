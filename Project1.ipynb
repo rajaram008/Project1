{
  "nbformat": 4,
  "nbformat_minor": 0,
  "metadata": {
    "colab": {
      "name": "Untitled3.ipynb",
      "version": "0.3.2",
      "views": {},
      "default_view": {},
      "provenance": []
    },
    "kernelspec": {
      "name": "python3",
      "display_name": "Python 3"
    }
  },
  "cells": [
    {
      "metadata": {
        "id": "k6xdN6BRqxbc",
        "colab_type": "code",
        "colab": {
          "autoexec": {
            "startup": false,
            "wait_interval": 0
          }
        }
      },
      "cell_type": "code",
      "source": [
        "#import libraries into the operating environment\n",
        "import pandas as pd\n",
        "import numpy as np\n",
        "import matplotlib.pyplot as plt\n",
        "import seaborn as sns\n",
        "%matplotlib inline"
      ],
      "execution_count": 0,
      "outputs": []
    },
    {
      "metadata": {
        "id": "i24MYuDVq1fi",
        "colab_type": "text"
      },
      "cell_type": "markdown",
      "source": [
        "**Read data from the url into pandas dataframe df**"
      ]
    },
    {
      "metadata": {
        "id": "4qUO5Gmlq4HT",
        "colab_type": "code",
        "colab": {
          "autoexec": {
            "startup": false,
            "wait_interval": 0
          },
          "base_uri": "https://localhost:8080/",
          "height": 111
        },
        "outputId": "70928d6d-220f-4c95-ea34-7b08f8750dad",
        "executionInfo": {
          "status": "ok",
          "timestamp": 1533029368215,
          "user_tz": -330,
          "elapsed": 4827,
          "user": {
            "displayName": "Rajaram Tripathy",
            "photoUrl": "//lh6.googleusercontent.com/-i36HQO2rFzQ/AAAAAAAAAAI/AAAAAAAAAmk/wo74Cfd039M/s50-c-k-no/photo.jpg",
            "userId": "114877031278411201428"
          }
        }
      },
      "cell_type": "code",
      "source": [
        "#load data into pandas dataframe df\n",
        "df =pd.read_csv('https://raw.githubusercontent.com/jackiekazil/data-wrangling/master/data/chp3/data-text.csv')\n",
        "#display first two rows from the dataframe df\n",
        "df.head(2)"
      ],
      "execution_count": 2,
      "outputs": [
        {
          "output_type": "execute_result",
          "data": {
            "text/html": [
              "<div>\n",
              "<style scoped>\n",
              "    .dataframe tbody tr th:only-of-type {\n",
              "        vertical-align: middle;\n",
              "    }\n",
              "\n",
              "    .dataframe tbody tr th {\n",
              "        vertical-align: top;\n",
              "    }\n",
              "\n",
              "    .dataframe thead th {\n",
              "        text-align: right;\n",
              "    }\n",
              "</style>\n",
              "<table border=\"1\" class=\"dataframe\">\n",
              "  <thead>\n",
              "    <tr style=\"text-align: right;\">\n",
              "      <th></th>\n",
              "      <th>Indicator</th>\n",
              "      <th>PUBLISH STATES</th>\n",
              "      <th>Year</th>\n",
              "      <th>WHO region</th>\n",
              "      <th>World Bank income group</th>\n",
              "      <th>Country</th>\n",
              "      <th>Sex</th>\n",
              "      <th>Display Value</th>\n",
              "      <th>Numeric</th>\n",
              "      <th>Low</th>\n",
              "      <th>High</th>\n",
              "      <th>Comments</th>\n",
              "    </tr>\n",
              "  </thead>\n",
              "  <tbody>\n",
              "    <tr>\n",
              "      <th>0</th>\n",
              "      <td>Life expectancy at birth (years)</td>\n",
              "      <td>Published</td>\n",
              "      <td>1990</td>\n",
              "      <td>Europe</td>\n",
              "      <td>High-income</td>\n",
              "      <td>Andorra</td>\n",
              "      <td>Both sexes</td>\n",
              "      <td>77</td>\n",
              "      <td>77.0</td>\n",
              "      <td>NaN</td>\n",
              "      <td>NaN</td>\n",
              "      <td>NaN</td>\n",
              "    </tr>\n",
              "    <tr>\n",
              "      <th>1</th>\n",
              "      <td>Life expectancy at birth (years)</td>\n",
              "      <td>Published</td>\n",
              "      <td>2000</td>\n",
              "      <td>Europe</td>\n",
              "      <td>High-income</td>\n",
              "      <td>Andorra</td>\n",
              "      <td>Both sexes</td>\n",
              "      <td>80</td>\n",
              "      <td>80.0</td>\n",
              "      <td>NaN</td>\n",
              "      <td>NaN</td>\n",
              "      <td>NaN</td>\n",
              "    </tr>\n",
              "  </tbody>\n",
              "</table>\n",
              "</div>"
            ],
            "text/plain": [
              "                          Indicator PUBLISH STATES  Year WHO region  \\\n",
              "0  Life expectancy at birth (years)      Published  1990     Europe   \n",
              "1  Life expectancy at birth (years)      Published  2000     Europe   \n",
              "\n",
              "  World Bank income group  Country         Sex  Display Value  Numeric  Low  \\\n",
              "0             High-income  Andorra  Both sexes             77     77.0  NaN   \n",
              "1             High-income  Andorra  Both sexes             80     80.0  NaN   \n",
              "\n",
              "   High  Comments  \n",
              "0   NaN       NaN  \n",
              "1   NaN       NaN  "
            ]
          },
          "metadata": {
            "tags": []
          },
          "execution_count": 2
        }
      ]
    },
    {
      "metadata": {
        "id": "X7EAwufLq-yM",
        "colab_type": "text"
      },
      "cell_type": "markdown",
      "source": [
        "**Read data from the url into pandas dataframe df1**"
      ]
    },
    {
      "metadata": {
        "id": "V3EyLk6vrAuI",
        "colab_type": "code",
        "colab": {
          "autoexec": {
            "startup": false,
            "wait_interval": 0
          },
          "base_uri": "https://localhost:8080/",
          "height": 228
        },
        "outputId": "60e97d45-f4c9-4031-ec77-057af8e7ac8a",
        "executionInfo": {
          "status": "ok",
          "timestamp": 1533029403986,
          "user_tz": -330,
          "elapsed": 2261,
          "user": {
            "displayName": "Rajaram Tripathy",
            "photoUrl": "//lh6.googleusercontent.com/-i36HQO2rFzQ/AAAAAAAAAAI/AAAAAAAAAmk/wo74Cfd039M/s50-c-k-no/photo.jpg",
            "userId": "114877031278411201428"
          }
        }
      },
      "cell_type": "code",
      "source": [
        "#load data into pandas dataframe df1\n",
        "df1 =pd.read_csv('https://raw.githubusercontent.com/kjam/data-wrangling-pycon/master/data/berlin_weather_oldest.csv')\n",
        "#display first two rows from the dataframe df1\n",
        "df1.head(2)"
      ],
      "execution_count": 3,
      "outputs": [
        {
          "output_type": "execute_result",
          "data": {
            "text/html": [
              "<div>\n",
              "<style scoped>\n",
              "    .dataframe tbody tr th:only-of-type {\n",
              "        vertical-align: middle;\n",
              "    }\n",
              "\n",
              "    .dataframe tbody tr th {\n",
              "        vertical-align: top;\n",
              "    }\n",
              "\n",
              "    .dataframe thead th {\n",
              "        text-align: right;\n",
              "    }\n",
              "</style>\n",
              "<table border=\"1\" class=\"dataframe\">\n",
              "  <thead>\n",
              "    <tr style=\"text-align: right;\">\n",
              "      <th></th>\n",
              "      <th>STATION</th>\n",
              "      <th>STATION_NAME</th>\n",
              "      <th>DATE</th>\n",
              "      <th>PRCP</th>\n",
              "      <th>SNWD</th>\n",
              "      <th>SNOW</th>\n",
              "      <th>TMAX</th>\n",
              "      <th>TMIN</th>\n",
              "      <th>WDFG</th>\n",
              "      <th>PGTM</th>\n",
              "      <th>...</th>\n",
              "      <th>WT09</th>\n",
              "      <th>WT07</th>\n",
              "      <th>WT01</th>\n",
              "      <th>WT06</th>\n",
              "      <th>WT05</th>\n",
              "      <th>WT04</th>\n",
              "      <th>WT16</th>\n",
              "      <th>WT08</th>\n",
              "      <th>WT18</th>\n",
              "      <th>WT03</th>\n",
              "    </tr>\n",
              "  </thead>\n",
              "  <tbody>\n",
              "    <tr>\n",
              "      <th>0</th>\n",
              "      <td>GHCND:GME00111445</td>\n",
              "      <td>BERLIN TEMPELHOF GM</td>\n",
              "      <td>19310101</td>\n",
              "      <td>46</td>\n",
              "      <td>-9999</td>\n",
              "      <td>-9999</td>\n",
              "      <td>-9999</td>\n",
              "      <td>-11</td>\n",
              "      <td>-9999</td>\n",
              "      <td>-9999</td>\n",
              "      <td>...</td>\n",
              "      <td>-9999</td>\n",
              "      <td>-9999</td>\n",
              "      <td>-9999</td>\n",
              "      <td>-9999</td>\n",
              "      <td>-9999</td>\n",
              "      <td>-9999</td>\n",
              "      <td>-9999</td>\n",
              "      <td>-9999</td>\n",
              "      <td>-9999</td>\n",
              "      <td>-9999</td>\n",
              "    </tr>\n",
              "    <tr>\n",
              "      <th>1</th>\n",
              "      <td>GHCND:GME00111445</td>\n",
              "      <td>BERLIN TEMPELHOF GM</td>\n",
              "      <td>19310102</td>\n",
              "      <td>107</td>\n",
              "      <td>-9999</td>\n",
              "      <td>-9999</td>\n",
              "      <td>50</td>\n",
              "      <td>11</td>\n",
              "      <td>-9999</td>\n",
              "      <td>-9999</td>\n",
              "      <td>...</td>\n",
              "      <td>-9999</td>\n",
              "      <td>-9999</td>\n",
              "      <td>-9999</td>\n",
              "      <td>-9999</td>\n",
              "      <td>-9999</td>\n",
              "      <td>-9999</td>\n",
              "      <td>-9999</td>\n",
              "      <td>-9999</td>\n",
              "      <td>-9999</td>\n",
              "      <td>-9999</td>\n",
              "    </tr>\n",
              "  </tbody>\n",
              "</table>\n",
              "<p>2 rows × 21 columns</p>\n",
              "</div>"
            ],
            "text/plain": [
              "             STATION         STATION_NAME      DATE  PRCP  SNWD  SNOW  TMAX  \\\n",
              "0  GHCND:GME00111445  BERLIN TEMPELHOF GM  19310101    46 -9999 -9999 -9999   \n",
              "1  GHCND:GME00111445  BERLIN TEMPELHOF GM  19310102   107 -9999 -9999    50   \n",
              "\n",
              "   TMIN  WDFG  PGTM  ...   WT09  WT07  WT01  WT06  WT05  WT04  WT16  WT08  \\\n",
              "0   -11 -9999 -9999  ...  -9999 -9999 -9999 -9999 -9999 -9999 -9999 -9999   \n",
              "1    11 -9999 -9999  ...  -9999 -9999 -9999 -9999 -9999 -9999 -9999 -9999   \n",
              "\n",
              "   WT18  WT03  \n",
              "0 -9999 -9999  \n",
              "1 -9999 -9999  \n",
              "\n",
              "[2 rows x 21 columns]"
            ]
          },
          "metadata": {
            "tags": []
          },
          "execution_count": 3
        }
      ]
    },
    {
      "metadata": {
        "id": "2BEuyhFMrKZE",
        "colab_type": "code",
        "colab": {
          "autoexec": {
            "startup": false,
            "wait_interval": 0
          },
          "base_uri": "https://localhost:8080/",
          "height": 51
        },
        "outputId": "363ed566-ba8e-4659-9c95-cfee6150b8e0",
        "executionInfo": {
          "status": "ok",
          "timestamp": 1533029429947,
          "user_tz": -330,
          "elapsed": 830,
          "user": {
            "displayName": "Rajaram Tripathy",
            "photoUrl": "//lh6.googleusercontent.com/-i36HQO2rFzQ/AAAAAAAAAAI/AAAAAAAAAmk/wo74Cfd039M/s50-c-k-no/photo.jpg",
            "userId": "114877031278411201428"
          }
        }
      },
      "cell_type": "code",
      "source": [
        "print(df.shape)\n",
        "print(df1.shape)"
      ],
      "execution_count": 4,
      "outputs": [
        {
          "output_type": "stream",
          "text": [
            "(4656, 12)\n",
            "(117208, 21)\n"
          ],
          "name": "stdout"
        }
      ]
    },
    {
      "metadata": {
        "id": "jrbGqC_QrOI4",
        "colab_type": "text"
      },
      "cell_type": "markdown",
      "source": [
        "**Q1. Get the Metadata from the above files.**"
      ]
    },
    {
      "metadata": {
        "id": "eHdDRxw1rQtD",
        "colab_type": "code",
        "colab": {
          "autoexec": {
            "startup": false,
            "wait_interval": 0
          },
          "base_uri": "https://localhost:8080/",
          "height": 884
        },
        "outputId": "1c81bd61-40be-4e2c-f2e6-9b6587d9b2bc",
        "executionInfo": {
          "status": "ok",
          "timestamp": 1533029472707,
          "user_tz": -330,
          "elapsed": 3858,
          "user": {
            "displayName": "Rajaram Tripathy",
            "photoUrl": "//lh6.googleusercontent.com/-i36HQO2rFzQ/AAAAAAAAAAI/AAAAAAAAAmk/wo74Cfd039M/s50-c-k-no/photo.jpg",
            "userId": "114877031278411201428"
          }
        }
      },
      "cell_type": "code",
      "source": [
        "# pd.Dataframe.info()- retrieves the metadata about the dataframe\n",
        "print(\"Metadata - df\")\n",
        "print('*'*80)\n",
        "print(df.info())\n",
        "print(\"\\n\")\n",
        "print(\"Metadata - df1\")\n",
        "print('*'*80)\n",
        "print(df1.info())"
      ],
      "execution_count": 5,
      "outputs": [
        {
          "output_type": "stream",
          "text": [
            "Metadata - df\n",
            "********************************************************************************\n",
            "<class 'pandas.core.frame.DataFrame'>\n",
            "RangeIndex: 4656 entries, 0 to 4655\n",
            "Data columns (total 12 columns):\n",
            "Indicator                  4656 non-null object\n",
            "PUBLISH STATES             4656 non-null object\n",
            "Year                       4656 non-null int64\n",
            "WHO region                 4656 non-null object\n",
            "World Bank income group    4656 non-null object\n",
            "Country                    4656 non-null object\n",
            "Sex                        4656 non-null object\n",
            "Display Value              4656 non-null int64\n",
            "Numeric                    4656 non-null float64\n",
            "Low                        0 non-null float64\n",
            "High                       0 non-null float64\n",
            "Comments                   0 non-null float64\n",
            "dtypes: float64(4), int64(2), object(6)\n",
            "memory usage: 436.6+ KB\n",
            "None\n",
            "\n",
            "\n",
            "Metadata - df1\n",
            "********************************************************************************\n",
            "<class 'pandas.core.frame.DataFrame'>\n",
            "RangeIndex: 117208 entries, 0 to 117207\n",
            "Data columns (total 21 columns):\n",
            "STATION         117208 non-null object\n",
            "STATION_NAME    117208 non-null object\n",
            "DATE            117208 non-null int64\n",
            "PRCP            117208 non-null int64\n",
            "SNWD            117208 non-null int64\n",
            "SNOW            117208 non-null int64\n",
            "TMAX            117208 non-null int64\n",
            "TMIN            117208 non-null int64\n",
            "WDFG            117208 non-null int64\n",
            "PGTM            117208 non-null int64\n",
            "WSFG            117208 non-null int64\n",
            "WT09            117208 non-null int64\n",
            "WT07            117208 non-null int64\n",
            "WT01            117208 non-null int64\n",
            "WT06            117208 non-null int64\n",
            "WT05            117208 non-null int64\n",
            "WT04            117208 non-null int64\n",
            "WT16            117208 non-null int64\n",
            "WT08            117208 non-null int64\n",
            "WT18            117208 non-null int64\n",
            "WT03            117208 non-null int64\n",
            "dtypes: int64(19), object(2)\n",
            "memory usage: 18.8+ MB\n",
            "None\n"
          ],
          "name": "stdout"
        }
      ]
    },
    {
      "metadata": {
        "id": "L596lwyHrZpY",
        "colab_type": "text"
      },
      "cell_type": "markdown",
      "source": [
        "\n",
        "**Q2. Get the row names from the above files.**"
      ]
    },
    {
      "metadata": {
        "id": "TE_VAJn4rbz_",
        "colab_type": "code",
        "colab": {
          "autoexec": {
            "startup": false,
            "wait_interval": 0
          },
          "base_uri": "https://localhost:8080/",
          "height": 51
        },
        "outputId": "1f1245f6-87e0-4caf-b3a9-a254c3fca913",
        "executionInfo": {
          "status": "ok",
          "timestamp": 1533029510954,
          "user_tz": -330,
          "elapsed": 878,
          "user": {
            "displayName": "Rajaram Tripathy",
            "photoUrl": "//lh6.googleusercontent.com/-i36HQO2rFzQ/AAAAAAAAAAI/AAAAAAAAAmk/wo74Cfd039M/s50-c-k-no/photo.jpg",
            "userId": "114877031278411201428"
          }
        }
      },
      "cell_type": "code",
      "source": [
        "#the row names in a dataframe correspond to the index values which can be retieved using .index command\n",
        "print(\"dataframe df row names as follows : \")\n",
        "df.index.values"
      ],
      "execution_count": 6,
      "outputs": [
        {
          "output_type": "stream",
          "text": [
            "dataframe df row names as follows : \n"
          ],
          "name": "stdout"
        },
        {
          "output_type": "execute_result",
          "data": {
            "text/plain": [
              "array([   0,    1,    2, ..., 4653, 4654, 4655])"
            ]
          },
          "metadata": {
            "tags": []
          },
          "execution_count": 6
        }
      ]
    },
    {
      "metadata": {
        "id": "ZkWaQDelrk5I",
        "colab_type": "code",
        "colab": {
          "autoexec": {
            "startup": false,
            "wait_interval": 0
          },
          "base_uri": "https://localhost:8080/",
          "height": 51
        },
        "outputId": "27d1bfa7-31fe-4524-8a77-10688c151cf9",
        "executionInfo": {
          "status": "ok",
          "timestamp": 1533029538733,
          "user_tz": -330,
          "elapsed": 804,
          "user": {
            "displayName": "Rajaram Tripathy",
            "photoUrl": "//lh6.googleusercontent.com/-i36HQO2rFzQ/AAAAAAAAAAI/AAAAAAAAAmk/wo74Cfd039M/s50-c-k-no/photo.jpg",
            "userId": "114877031278411201428"
          }
        }
      },
      "cell_type": "code",
      "source": [
        "print(\"dataframe df1 row names as follows : \")\n",
        "df1.index.values"
      ],
      "execution_count": 7,
      "outputs": [
        {
          "output_type": "stream",
          "text": [
            "dataframe df1 row names as follows : \n"
          ],
          "name": "stdout"
        },
        {
          "output_type": "execute_result",
          "data": {
            "text/plain": [
              "array([     0,      1,      2, ..., 117205, 117206, 117207])"
            ]
          },
          "metadata": {
            "tags": []
          },
          "execution_count": 7
        }
      ]
    },
    {
      "metadata": {
        "id": "GPyItqnRrmu6",
        "colab_type": "code",
        "colab": {
          "autoexec": {
            "startup": false,
            "wait_interval": 0
          }
        }
      },
      "cell_type": "code",
      "source": [
        ""
      ],
      "execution_count": 0,
      "outputs": []
    },
    {
      "metadata": {
        "id": "pHL8k2qPr89R",
        "colab_type": "text"
      },
      "cell_type": "markdown",
      "source": [
        "\n",
        "**Q3. Change the column name from any of the above file.**"
      ]
    },
    {
      "metadata": {
        "id": "Y5Wotsv8r_Z-",
        "colab_type": "code",
        "colab": {
          "autoexec": {
            "startup": false,
            "wait_interval": 0
          },
          "base_uri": "https://localhost:8080/",
          "height": 111
        },
        "outputId": "9387cf02-12f8-4cc9-a2b7-98a5db18f86e",
        "executionInfo": {
          "status": "ok",
          "timestamp": 1533029656331,
          "user_tz": -330,
          "elapsed": 829,
          "user": {
            "displayName": "Rajaram Tripathy",
            "photoUrl": "//lh6.googleusercontent.com/-i36HQO2rFzQ/AAAAAAAAAAI/AAAAAAAAAmk/wo74Cfd039M/s50-c-k-no/photo.jpg",
            "userId": "114877031278411201428"
          }
        }
      },
      "cell_type": "code",
      "source": [
        "#changing the column name of dataframe df from indicator to indicator_id using the rename method\n",
        "df.rename(columns={'Indicator':'Indicator_id'}).head(2)"
      ],
      "execution_count": 8,
      "outputs": [
        {
          "output_type": "execute_result",
          "data": {
            "text/html": [
              "<div>\n",
              "<style scoped>\n",
              "    .dataframe tbody tr th:only-of-type {\n",
              "        vertical-align: middle;\n",
              "    }\n",
              "\n",
              "    .dataframe tbody tr th {\n",
              "        vertical-align: top;\n",
              "    }\n",
              "\n",
              "    .dataframe thead th {\n",
              "        text-align: right;\n",
              "    }\n",
              "</style>\n",
              "<table border=\"1\" class=\"dataframe\">\n",
              "  <thead>\n",
              "    <tr style=\"text-align: right;\">\n",
              "      <th></th>\n",
              "      <th>Indicator_id</th>\n",
              "      <th>PUBLISH STATES</th>\n",
              "      <th>Year</th>\n",
              "      <th>WHO region</th>\n",
              "      <th>World Bank income group</th>\n",
              "      <th>Country</th>\n",
              "      <th>Sex</th>\n",
              "      <th>Display Value</th>\n",
              "      <th>Numeric</th>\n",
              "      <th>Low</th>\n",
              "      <th>High</th>\n",
              "      <th>Comments</th>\n",
              "    </tr>\n",
              "  </thead>\n",
              "  <tbody>\n",
              "    <tr>\n",
              "      <th>0</th>\n",
              "      <td>Life expectancy at birth (years)</td>\n",
              "      <td>Published</td>\n",
              "      <td>1990</td>\n",
              "      <td>Europe</td>\n",
              "      <td>High-income</td>\n",
              "      <td>Andorra</td>\n",
              "      <td>Both sexes</td>\n",
              "      <td>77</td>\n",
              "      <td>77.0</td>\n",
              "      <td>NaN</td>\n",
              "      <td>NaN</td>\n",
              "      <td>NaN</td>\n",
              "    </tr>\n",
              "    <tr>\n",
              "      <th>1</th>\n",
              "      <td>Life expectancy at birth (years)</td>\n",
              "      <td>Published</td>\n",
              "      <td>2000</td>\n",
              "      <td>Europe</td>\n",
              "      <td>High-income</td>\n",
              "      <td>Andorra</td>\n",
              "      <td>Both sexes</td>\n",
              "      <td>80</td>\n",
              "      <td>80.0</td>\n",
              "      <td>NaN</td>\n",
              "      <td>NaN</td>\n",
              "      <td>NaN</td>\n",
              "    </tr>\n",
              "  </tbody>\n",
              "</table>\n",
              "</div>"
            ],
            "text/plain": [
              "                       Indicator_id PUBLISH STATES  Year WHO region  \\\n",
              "0  Life expectancy at birth (years)      Published  1990     Europe   \n",
              "1  Life expectancy at birth (years)      Published  2000     Europe   \n",
              "\n",
              "  World Bank income group  Country         Sex  Display Value  Numeric  Low  \\\n",
              "0             High-income  Andorra  Both sexes             77     77.0  NaN   \n",
              "1             High-income  Andorra  Both sexes             80     80.0  NaN   \n",
              "\n",
              "   High  Comments  \n",
              "0   NaN       NaN  \n",
              "1   NaN       NaN  "
            ]
          },
          "metadata": {
            "tags": []
          },
          "execution_count": 8
        }
      ]
    },
    {
      "metadata": {
        "id": "kKGVtdFesD1S",
        "colab_type": "code",
        "colab": {
          "autoexec": {
            "startup": false,
            "wait_interval": 0
          },
          "base_uri": "https://localhost:8080/",
          "height": 111
        },
        "outputId": "ff3a0b70-5b33-49dc-a66d-c5e6b73b1c17",
        "executionInfo": {
          "status": "ok",
          "timestamp": 1533029675828,
          "user_tz": -330,
          "elapsed": 804,
          "user": {
            "displayName": "Rajaram Tripathy",
            "photoUrl": "//lh6.googleusercontent.com/-i36HQO2rFzQ/AAAAAAAAAAI/AAAAAAAAAmk/wo74Cfd039M/s50-c-k-no/photo.jpg",
            "userId": "114877031278411201428"
          }
        }
      },
      "cell_type": "code",
      "source": [
        "#verify if the column name in the original dataframe df if it has changed\n",
        "df.head(2)"
      ],
      "execution_count": 9,
      "outputs": [
        {
          "output_type": "execute_result",
          "data": {
            "text/html": [
              "<div>\n",
              "<style scoped>\n",
              "    .dataframe tbody tr th:only-of-type {\n",
              "        vertical-align: middle;\n",
              "    }\n",
              "\n",
              "    .dataframe tbody tr th {\n",
              "        vertical-align: top;\n",
              "    }\n",
              "\n",
              "    .dataframe thead th {\n",
              "        text-align: right;\n",
              "    }\n",
              "</style>\n",
              "<table border=\"1\" class=\"dataframe\">\n",
              "  <thead>\n",
              "    <tr style=\"text-align: right;\">\n",
              "      <th></th>\n",
              "      <th>Indicator</th>\n",
              "      <th>PUBLISH STATES</th>\n",
              "      <th>Year</th>\n",
              "      <th>WHO region</th>\n",
              "      <th>World Bank income group</th>\n",
              "      <th>Country</th>\n",
              "      <th>Sex</th>\n",
              "      <th>Display Value</th>\n",
              "      <th>Numeric</th>\n",
              "      <th>Low</th>\n",
              "      <th>High</th>\n",
              "      <th>Comments</th>\n",
              "    </tr>\n",
              "  </thead>\n",
              "  <tbody>\n",
              "    <tr>\n",
              "      <th>0</th>\n",
              "      <td>Life expectancy at birth (years)</td>\n",
              "      <td>Published</td>\n",
              "      <td>1990</td>\n",
              "      <td>Europe</td>\n",
              "      <td>High-income</td>\n",
              "      <td>Andorra</td>\n",
              "      <td>Both sexes</td>\n",
              "      <td>77</td>\n",
              "      <td>77.0</td>\n",
              "      <td>NaN</td>\n",
              "      <td>NaN</td>\n",
              "      <td>NaN</td>\n",
              "    </tr>\n",
              "    <tr>\n",
              "      <th>1</th>\n",
              "      <td>Life expectancy at birth (years)</td>\n",
              "      <td>Published</td>\n",
              "      <td>2000</td>\n",
              "      <td>Europe</td>\n",
              "      <td>High-income</td>\n",
              "      <td>Andorra</td>\n",
              "      <td>Both sexes</td>\n",
              "      <td>80</td>\n",
              "      <td>80.0</td>\n",
              "      <td>NaN</td>\n",
              "      <td>NaN</td>\n",
              "      <td>NaN</td>\n",
              "    </tr>\n",
              "  </tbody>\n",
              "</table>\n",
              "</div>"
            ],
            "text/plain": [
              "                          Indicator PUBLISH STATES  Year WHO region  \\\n",
              "0  Life expectancy at birth (years)      Published  1990     Europe   \n",
              "1  Life expectancy at birth (years)      Published  2000     Europe   \n",
              "\n",
              "  World Bank income group  Country         Sex  Display Value  Numeric  Low  \\\n",
              "0             High-income  Andorra  Both sexes             77     77.0  NaN   \n",
              "1             High-income  Andorra  Both sexes             80     80.0  NaN   \n",
              "\n",
              "   High  Comments  \n",
              "0   NaN       NaN  \n",
              "1   NaN       NaN  "
            ]
          },
          "metadata": {
            "tags": []
          },
          "execution_count": 9
        }
      ]
    },
    {
      "metadata": {
        "id": "BYdqnXSIsK2d",
        "colab_type": "text"
      },
      "cell_type": "markdown",
      "source": [
        "**Q4. Change the column name from any of the above file and store the changes made permanently.**"
      ]
    },
    {
      "metadata": {
        "id": "pXBOv5o2sOIJ",
        "colab_type": "code",
        "colab": {
          "autoexec": {
            "startup": false,
            "wait_interval": 0
          },
          "base_uri": "https://localhost:8080/",
          "height": 111
        },
        "outputId": "3bbde802-54a5-49e5-f15f-d2cc29e07aec",
        "executionInfo": {
          "status": "ok",
          "timestamp": 1533029715608,
          "user_tz": -330,
          "elapsed": 850,
          "user": {
            "displayName": "Rajaram Tripathy",
            "photoUrl": "//lh6.googleusercontent.com/-i36HQO2rFzQ/AAAAAAAAAAI/AAAAAAAAAmk/wo74Cfd039M/s50-c-k-no/photo.jpg",
            "userId": "114877031278411201428"
          }
        }
      },
      "cell_type": "code",
      "source": [
        "#\"original datafarme df  column changes being made permanent by using inplace=True option.\n",
        "df.rename(columns={'Indicator':'Indicator_id'},inplace=True)\n",
        "df.head(2)"
      ],
      "execution_count": 10,
      "outputs": [
        {
          "output_type": "execute_result",
          "data": {
            "text/html": [
              "<div>\n",
              "<style scoped>\n",
              "    .dataframe tbody tr th:only-of-type {\n",
              "        vertical-align: middle;\n",
              "    }\n",
              "\n",
              "    .dataframe tbody tr th {\n",
              "        vertical-align: top;\n",
              "    }\n",
              "\n",
              "    .dataframe thead th {\n",
              "        text-align: right;\n",
              "    }\n",
              "</style>\n",
              "<table border=\"1\" class=\"dataframe\">\n",
              "  <thead>\n",
              "    <tr style=\"text-align: right;\">\n",
              "      <th></th>\n",
              "      <th>Indicator_id</th>\n",
              "      <th>PUBLISH STATES</th>\n",
              "      <th>Year</th>\n",
              "      <th>WHO region</th>\n",
              "      <th>World Bank income group</th>\n",
              "      <th>Country</th>\n",
              "      <th>Sex</th>\n",
              "      <th>Display Value</th>\n",
              "      <th>Numeric</th>\n",
              "      <th>Low</th>\n",
              "      <th>High</th>\n",
              "      <th>Comments</th>\n",
              "    </tr>\n",
              "  </thead>\n",
              "  <tbody>\n",
              "    <tr>\n",
              "      <th>0</th>\n",
              "      <td>Life expectancy at birth (years)</td>\n",
              "      <td>Published</td>\n",
              "      <td>1990</td>\n",
              "      <td>Europe</td>\n",
              "      <td>High-income</td>\n",
              "      <td>Andorra</td>\n",
              "      <td>Both sexes</td>\n",
              "      <td>77</td>\n",
              "      <td>77.0</td>\n",
              "      <td>NaN</td>\n",
              "      <td>NaN</td>\n",
              "      <td>NaN</td>\n",
              "    </tr>\n",
              "    <tr>\n",
              "      <th>1</th>\n",
              "      <td>Life expectancy at birth (years)</td>\n",
              "      <td>Published</td>\n",
              "      <td>2000</td>\n",
              "      <td>Europe</td>\n",
              "      <td>High-income</td>\n",
              "      <td>Andorra</td>\n",
              "      <td>Both sexes</td>\n",
              "      <td>80</td>\n",
              "      <td>80.0</td>\n",
              "      <td>NaN</td>\n",
              "      <td>NaN</td>\n",
              "      <td>NaN</td>\n",
              "    </tr>\n",
              "  </tbody>\n",
              "</table>\n",
              "</div>"
            ],
            "text/plain": [
              "                       Indicator_id PUBLISH STATES  Year WHO region  \\\n",
              "0  Life expectancy at birth (years)      Published  1990     Europe   \n",
              "1  Life expectancy at birth (years)      Published  2000     Europe   \n",
              "\n",
              "  World Bank income group  Country         Sex  Display Value  Numeric  Low  \\\n",
              "0             High-income  Andorra  Both sexes             77     77.0  NaN   \n",
              "1             High-income  Andorra  Both sexes             80     80.0  NaN   \n",
              "\n",
              "   High  Comments  \n",
              "0   NaN       NaN  \n",
              "1   NaN       NaN  "
            ]
          },
          "metadata": {
            "tags": []
          },
          "execution_count": 10
        }
      ]
    },
    {
      "metadata": {
        "id": "pDpeTzxfsYQg",
        "colab_type": "text"
      },
      "cell_type": "markdown",
      "source": [
        "\n",
        "**Q5. Change the names of multiple columns.**"
      ]
    },
    {
      "metadata": {
        "id": "K_ejotb9sbJX",
        "colab_type": "code",
        "colab": {
          "autoexec": {
            "startup": false,
            "wait_interval": 0
          },
          "base_uri": "https://localhost:8080/",
          "height": 111
        },
        "outputId": "5c702562-c930-41de-95d3-92f2e6d9f910",
        "executionInfo": {
          "status": "ok",
          "timestamp": 1533029846483,
          "user_tz": -330,
          "elapsed": 825,
          "user": {
            "displayName": "Rajaram Tripathy",
            "photoUrl": "//lh6.googleusercontent.com/-i36HQO2rFzQ/AAAAAAAAAAI/AAAAAAAAAmk/wo74Cfd039M/s50-c-k-no/photo.jpg",
            "userId": "114877031278411201428"
          }
        }
      },
      "cell_type": "code",
      "source": [
        "#changing multiple column names PUBLISH STATES to Publication Status, WHO region to WHO Region\n",
        "df.rename(columns={\"PUBLISH STATES\":\"Publication Status\",\"WHO region\":\"WHO Region\"},inplace=True)\n",
        "df.head(2)"
      ],
      "execution_count": 11,
      "outputs": [
        {
          "output_type": "execute_result",
          "data": {
            "text/html": [
              "<div>\n",
              "<style scoped>\n",
              "    .dataframe tbody tr th:only-of-type {\n",
              "        vertical-align: middle;\n",
              "    }\n",
              "\n",
              "    .dataframe tbody tr th {\n",
              "        vertical-align: top;\n",
              "    }\n",
              "\n",
              "    .dataframe thead th {\n",
              "        text-align: right;\n",
              "    }\n",
              "</style>\n",
              "<table border=\"1\" class=\"dataframe\">\n",
              "  <thead>\n",
              "    <tr style=\"text-align: right;\">\n",
              "      <th></th>\n",
              "      <th>Indicator_id</th>\n",
              "      <th>Publication Status</th>\n",
              "      <th>Year</th>\n",
              "      <th>WHO Region</th>\n",
              "      <th>World Bank income group</th>\n",
              "      <th>Country</th>\n",
              "      <th>Sex</th>\n",
              "      <th>Display Value</th>\n",
              "      <th>Numeric</th>\n",
              "      <th>Low</th>\n",
              "      <th>High</th>\n",
              "      <th>Comments</th>\n",
              "    </tr>\n",
              "  </thead>\n",
              "  <tbody>\n",
              "    <tr>\n",
              "      <th>0</th>\n",
              "      <td>Life expectancy at birth (years)</td>\n",
              "      <td>Published</td>\n",
              "      <td>1990</td>\n",
              "      <td>Europe</td>\n",
              "      <td>High-income</td>\n",
              "      <td>Andorra</td>\n",
              "      <td>Both sexes</td>\n",
              "      <td>77</td>\n",
              "      <td>77.0</td>\n",
              "      <td>NaN</td>\n",
              "      <td>NaN</td>\n",
              "      <td>NaN</td>\n",
              "    </tr>\n",
              "    <tr>\n",
              "      <th>1</th>\n",
              "      <td>Life expectancy at birth (years)</td>\n",
              "      <td>Published</td>\n",
              "      <td>2000</td>\n",
              "      <td>Europe</td>\n",
              "      <td>High-income</td>\n",
              "      <td>Andorra</td>\n",
              "      <td>Both sexes</td>\n",
              "      <td>80</td>\n",
              "      <td>80.0</td>\n",
              "      <td>NaN</td>\n",
              "      <td>NaN</td>\n",
              "      <td>NaN</td>\n",
              "    </tr>\n",
              "  </tbody>\n",
              "</table>\n",
              "</div>"
            ],
            "text/plain": [
              "                       Indicator_id Publication Status  Year WHO Region  \\\n",
              "0  Life expectancy at birth (years)          Published  1990     Europe   \n",
              "1  Life expectancy at birth (years)          Published  2000     Europe   \n",
              "\n",
              "  World Bank income group  Country         Sex  Display Value  Numeric  Low  \\\n",
              "0             High-income  Andorra  Both sexes             77     77.0  NaN   \n",
              "1             High-income  Andorra  Both sexes             80     80.0  NaN   \n",
              "\n",
              "   High  Comments  \n",
              "0   NaN       NaN  \n",
              "1   NaN       NaN  "
            ]
          },
          "metadata": {
            "tags": []
          },
          "execution_count": 11
        }
      ]
    },
    {
      "metadata": {
        "id": "LeOFlMcLs48_",
        "colab_type": "text"
      },
      "cell_type": "markdown",
      "source": [
        "**Q6. Arrange values of a particular column in ascending order.**"
      ]
    },
    {
      "metadata": {
        "id": "LbiDsdVfs7F8",
        "colab_type": "code",
        "colab": {
          "autoexec": {
            "startup": false,
            "wait_interval": 0
          },
          "base_uri": "https://localhost:8080/",
          "height": 306
        },
        "outputId": "e420098d-5dd9-47aa-f00d-bb26bcff2604",
        "executionInfo": {
          "status": "ok",
          "timestamp": 1533029902060,
          "user_tz": -330,
          "elapsed": 808,
          "user": {
            "displayName": "Rajaram Tripathy",
            "photoUrl": "//lh6.googleusercontent.com/-i36HQO2rFzQ/AAAAAAAAAAI/AAAAAAAAAmk/wo74Cfd039M/s50-c-k-no/photo.jpg",
            "userId": "114877031278411201428"
          }
        }
      },
      "cell_type": "code",
      "source": [
        "#sorting the values in Year column in ascending order of year and making the sort operation permanent using inplace =True option.\n",
        "df.sort_values('Year',ascending=True).head()"
      ],
      "execution_count": 12,
      "outputs": [
        {
          "output_type": "execute_result",
          "data": {
            "text/html": [
              "<div>\n",
              "<style scoped>\n",
              "    .dataframe tbody tr th:only-of-type {\n",
              "        vertical-align: middle;\n",
              "    }\n",
              "\n",
              "    .dataframe tbody tr th {\n",
              "        vertical-align: top;\n",
              "    }\n",
              "\n",
              "    .dataframe thead th {\n",
              "        text-align: right;\n",
              "    }\n",
              "</style>\n",
              "<table border=\"1\" class=\"dataframe\">\n",
              "  <thead>\n",
              "    <tr style=\"text-align: right;\">\n",
              "      <th></th>\n",
              "      <th>Indicator_id</th>\n",
              "      <th>Publication Status</th>\n",
              "      <th>Year</th>\n",
              "      <th>WHO Region</th>\n",
              "      <th>World Bank income group</th>\n",
              "      <th>Country</th>\n",
              "      <th>Sex</th>\n",
              "      <th>Display Value</th>\n",
              "      <th>Numeric</th>\n",
              "      <th>Low</th>\n",
              "      <th>High</th>\n",
              "      <th>Comments</th>\n",
              "    </tr>\n",
              "  </thead>\n",
              "  <tbody>\n",
              "    <tr>\n",
              "      <th>0</th>\n",
              "      <td>Life expectancy at birth (years)</td>\n",
              "      <td>Published</td>\n",
              "      <td>1990</td>\n",
              "      <td>Europe</td>\n",
              "      <td>High-income</td>\n",
              "      <td>Andorra</td>\n",
              "      <td>Both sexes</td>\n",
              "      <td>77</td>\n",
              "      <td>77.0</td>\n",
              "      <td>NaN</td>\n",
              "      <td>NaN</td>\n",
              "      <td>NaN</td>\n",
              "    </tr>\n",
              "    <tr>\n",
              "      <th>1270</th>\n",
              "      <td>Life expectancy at birth (years)</td>\n",
              "      <td>Published</td>\n",
              "      <td>1990</td>\n",
              "      <td>Europe</td>\n",
              "      <td>High-income</td>\n",
              "      <td>Germany</td>\n",
              "      <td>Male</td>\n",
              "      <td>72</td>\n",
              "      <td>72.0</td>\n",
              "      <td>NaN</td>\n",
              "      <td>NaN</td>\n",
              "      <td>NaN</td>\n",
              "    </tr>\n",
              "    <tr>\n",
              "      <th>3193</th>\n",
              "      <td>Life expectancy at birth (years)</td>\n",
              "      <td>Published</td>\n",
              "      <td>1990</td>\n",
              "      <td>Europe</td>\n",
              "      <td>Lower-middle-income</td>\n",
              "      <td>Republic of Moldova</td>\n",
              "      <td>Male</td>\n",
              "      <td>65</td>\n",
              "      <td>65.0</td>\n",
              "      <td>NaN</td>\n",
              "      <td>NaN</td>\n",
              "      <td>NaN</td>\n",
              "    </tr>\n",
              "    <tr>\n",
              "      <th>3194</th>\n",
              "      <td>Life expectancy at birth (years)</td>\n",
              "      <td>Published</td>\n",
              "      <td>1990</td>\n",
              "      <td>Europe</td>\n",
              "      <td>Lower-middle-income</td>\n",
              "      <td>Republic of Moldova</td>\n",
              "      <td>Both sexes</td>\n",
              "      <td>68</td>\n",
              "      <td>68.0</td>\n",
              "      <td>NaN</td>\n",
              "      <td>NaN</td>\n",
              "      <td>NaN</td>\n",
              "    </tr>\n",
              "    <tr>\n",
              "      <th>3197</th>\n",
              "      <td>Life expectancy at age 60 (years)</td>\n",
              "      <td>Published</td>\n",
              "      <td>1990</td>\n",
              "      <td>Europe</td>\n",
              "      <td>Lower-middle-income</td>\n",
              "      <td>Republic of Moldova</td>\n",
              "      <td>Male</td>\n",
              "      <td>15</td>\n",
              "      <td>15.0</td>\n",
              "      <td>NaN</td>\n",
              "      <td>NaN</td>\n",
              "      <td>NaN</td>\n",
              "    </tr>\n",
              "  </tbody>\n",
              "</table>\n",
              "</div>"
            ],
            "text/plain": [
              "                           Indicator_id Publication Status  Year WHO Region  \\\n",
              "0      Life expectancy at birth (years)          Published  1990     Europe   \n",
              "1270   Life expectancy at birth (years)          Published  1990     Europe   \n",
              "3193   Life expectancy at birth (years)          Published  1990     Europe   \n",
              "3194   Life expectancy at birth (years)          Published  1990     Europe   \n",
              "3197  Life expectancy at age 60 (years)          Published  1990     Europe   \n",
              "\n",
              "     World Bank income group              Country         Sex  Display Value  \\\n",
              "0                High-income              Andorra  Both sexes             77   \n",
              "1270             High-income              Germany        Male             72   \n",
              "3193     Lower-middle-income  Republic of Moldova        Male             65   \n",
              "3194     Lower-middle-income  Republic of Moldova  Both sexes             68   \n",
              "3197     Lower-middle-income  Republic of Moldova        Male             15   \n",
              "\n",
              "      Numeric  Low  High  Comments  \n",
              "0        77.0  NaN   NaN       NaN  \n",
              "1270     72.0  NaN   NaN       NaN  \n",
              "3193     65.0  NaN   NaN       NaN  \n",
              "3194     68.0  NaN   NaN       NaN  \n",
              "3197     15.0  NaN   NaN       NaN  "
            ]
          },
          "metadata": {
            "tags": []
          },
          "execution_count": 12
        }
      ]
    },
    {
      "metadata": {
        "id": "ti_uT-QXtDqQ",
        "colab_type": "text"
      },
      "cell_type": "markdown",
      "source": [
        "**Q7. Arrange multiple column values in ascending order.**"
      ]
    },
    {
      "metadata": {
        "id": "1YD-jqphtGVT",
        "colab_type": "code",
        "colab": {
          "autoexec": {
            "startup": false,
            "wait_interval": 0
          },
          "base_uri": "https://localhost:8080/",
          "height": 142
        },
        "outputId": "33c5ae1a-ba00-44ca-b57c-f328095f1fae",
        "executionInfo": {
          "status": "ok",
          "timestamp": 1533029946955,
          "user_tz": -330,
          "elapsed": 832,
          "user": {
            "displayName": "Rajaram Tripathy",
            "photoUrl": "//lh6.googleusercontent.com/-i36HQO2rFzQ/AAAAAAAAAAI/AAAAAAAAAmk/wo74Cfd039M/s50-c-k-no/photo.jpg",
            "userId": "114877031278411201428"
          }
        }
      },
      "cell_type": "code",
      "source": [
        "#Arange multiple column values in ascending order for sample rows having country as 'Andorra' as specified in the\n",
        "#expected output in the project for problem statement 7.\n",
        "\n",
        "#filtered out the data whose Country name is Andorra from the original dataframe df1 into df_andorra\n",
        "df_andorra = df[df['Country'] =='Andorra']\n",
        "#only keep the columns specified in the list\n",
        "df_andorra = df_andorra[['Indicator_id','Country','Year','WHO Region','Publication Status']]\n",
        "#sort the columns Indicator_id in descending order and the column Year in ascending order. Also drop the duplicate  rows\n",
        "df_andorra = df_andorra.sort_values(['Indicator_id','Country','Year','WHO Region'],ascending=[False,False,True,False]).drop_duplicates(keep=\"first\")\n",
        "\n",
        "#reset the indexes after sorting as the index values will have row numbers of the original dataframe df\n",
        "df_andorra =df_andorra.reset_index(drop=True)\n",
        "\n",
        "# display first five ros of the sorted dataframe \n",
        "df_andorra.head(3)"
      ],
      "execution_count": 13,
      "outputs": [
        {
          "output_type": "execute_result",
          "data": {
            "text/html": [
              "<div>\n",
              "<style scoped>\n",
              "    .dataframe tbody tr th:only-of-type {\n",
              "        vertical-align: middle;\n",
              "    }\n",
              "\n",
              "    .dataframe tbody tr th {\n",
              "        vertical-align: top;\n",
              "    }\n",
              "\n",
              "    .dataframe thead th {\n",
              "        text-align: right;\n",
              "    }\n",
              "</style>\n",
              "<table border=\"1\" class=\"dataframe\">\n",
              "  <thead>\n",
              "    <tr style=\"text-align: right;\">\n",
              "      <th></th>\n",
              "      <th>Indicator_id</th>\n",
              "      <th>Country</th>\n",
              "      <th>Year</th>\n",
              "      <th>WHO Region</th>\n",
              "      <th>Publication Status</th>\n",
              "    </tr>\n",
              "  </thead>\n",
              "  <tbody>\n",
              "    <tr>\n",
              "      <th>0</th>\n",
              "      <td>Life expectancy at birth (years)</td>\n",
              "      <td>Andorra</td>\n",
              "      <td>1990</td>\n",
              "      <td>Europe</td>\n",
              "      <td>Published</td>\n",
              "    </tr>\n",
              "    <tr>\n",
              "      <th>1</th>\n",
              "      <td>Life expectancy at birth (years)</td>\n",
              "      <td>Andorra</td>\n",
              "      <td>2000</td>\n",
              "      <td>Europe</td>\n",
              "      <td>Published</td>\n",
              "    </tr>\n",
              "    <tr>\n",
              "      <th>2</th>\n",
              "      <td>Life expectancy at birth (years)</td>\n",
              "      <td>Andorra</td>\n",
              "      <td>2012</td>\n",
              "      <td>Europe</td>\n",
              "      <td>Published</td>\n",
              "    </tr>\n",
              "  </tbody>\n",
              "</table>\n",
              "</div>"
            ],
            "text/plain": [
              "                       Indicator_id  Country  Year WHO Region  \\\n",
              "0  Life expectancy at birth (years)  Andorra  1990     Europe   \n",
              "1  Life expectancy at birth (years)  Andorra  2000     Europe   \n",
              "2  Life expectancy at birth (years)  Andorra  2012     Europe   \n",
              "\n",
              "  Publication Status  \n",
              "0          Published  \n",
              "1          Published  \n",
              "2          Published  "
            ]
          },
          "metadata": {
            "tags": []
          },
          "execution_count": 13
        }
      ]
    },
    {
      "metadata": {
        "id": "ByTVCFqvtOde",
        "colab_type": "text"
      },
      "cell_type": "markdown",
      "source": [
        "\n",
        "**Q8. Make country as the first column of the dataframe.**"
      ]
    },
    {
      "metadata": {
        "id": "w-eZQu2VtQzr",
        "colab_type": "code",
        "colab": {
          "autoexec": {
            "startup": false,
            "wait_interval": 0
          },
          "base_uri": "https://localhost:8080/",
          "height": 306
        },
        "outputId": "c8cd82a6-5444-44dc-fa2d-5ae4bf3f7cee",
        "executionInfo": {
          "status": "ok",
          "timestamp": 1533029990805,
          "user_tz": -330,
          "elapsed": 812,
          "user": {
            "displayName": "Rajaram Tripathy",
            "photoUrl": "//lh6.googleusercontent.com/-i36HQO2rFzQ/AAAAAAAAAAI/AAAAAAAAAmk/wo74Cfd039M/s50-c-k-no/photo.jpg",
            "userId": "114877031278411201428"
          }
        }
      },
      "cell_type": "code",
      "source": [
        "df[pd.unique(['Country'] + df.columns.values.tolist()).tolist()].head()"
      ],
      "execution_count": 14,
      "outputs": [
        {
          "output_type": "execute_result",
          "data": {
            "text/html": [
              "<div>\n",
              "<style scoped>\n",
              "    .dataframe tbody tr th:only-of-type {\n",
              "        vertical-align: middle;\n",
              "    }\n",
              "\n",
              "    .dataframe tbody tr th {\n",
              "        vertical-align: top;\n",
              "    }\n",
              "\n",
              "    .dataframe thead th {\n",
              "        text-align: right;\n",
              "    }\n",
              "</style>\n",
              "<table border=\"1\" class=\"dataframe\">\n",
              "  <thead>\n",
              "    <tr style=\"text-align: right;\">\n",
              "      <th></th>\n",
              "      <th>Country</th>\n",
              "      <th>Indicator_id</th>\n",
              "      <th>Publication Status</th>\n",
              "      <th>Year</th>\n",
              "      <th>WHO Region</th>\n",
              "      <th>World Bank income group</th>\n",
              "      <th>Sex</th>\n",
              "      <th>Display Value</th>\n",
              "      <th>Numeric</th>\n",
              "      <th>Low</th>\n",
              "      <th>High</th>\n",
              "      <th>Comments</th>\n",
              "    </tr>\n",
              "  </thead>\n",
              "  <tbody>\n",
              "    <tr>\n",
              "      <th>0</th>\n",
              "      <td>Andorra</td>\n",
              "      <td>Life expectancy at birth (years)</td>\n",
              "      <td>Published</td>\n",
              "      <td>1990</td>\n",
              "      <td>Europe</td>\n",
              "      <td>High-income</td>\n",
              "      <td>Both sexes</td>\n",
              "      <td>77</td>\n",
              "      <td>77.0</td>\n",
              "      <td>NaN</td>\n",
              "      <td>NaN</td>\n",
              "      <td>NaN</td>\n",
              "    </tr>\n",
              "    <tr>\n",
              "      <th>1</th>\n",
              "      <td>Andorra</td>\n",
              "      <td>Life expectancy at birth (years)</td>\n",
              "      <td>Published</td>\n",
              "      <td>2000</td>\n",
              "      <td>Europe</td>\n",
              "      <td>High-income</td>\n",
              "      <td>Both sexes</td>\n",
              "      <td>80</td>\n",
              "      <td>80.0</td>\n",
              "      <td>NaN</td>\n",
              "      <td>NaN</td>\n",
              "      <td>NaN</td>\n",
              "    </tr>\n",
              "    <tr>\n",
              "      <th>2</th>\n",
              "      <td>Andorra</td>\n",
              "      <td>Life expectancy at age 60 (years)</td>\n",
              "      <td>Published</td>\n",
              "      <td>2012</td>\n",
              "      <td>Europe</td>\n",
              "      <td>High-income</td>\n",
              "      <td>Female</td>\n",
              "      <td>28</td>\n",
              "      <td>28.0</td>\n",
              "      <td>NaN</td>\n",
              "      <td>NaN</td>\n",
              "      <td>NaN</td>\n",
              "    </tr>\n",
              "    <tr>\n",
              "      <th>3</th>\n",
              "      <td>Andorra</td>\n",
              "      <td>Life expectancy at age 60 (years)</td>\n",
              "      <td>Published</td>\n",
              "      <td>2000</td>\n",
              "      <td>Europe</td>\n",
              "      <td>High-income</td>\n",
              "      <td>Both sexes</td>\n",
              "      <td>23</td>\n",
              "      <td>23.0</td>\n",
              "      <td>NaN</td>\n",
              "      <td>NaN</td>\n",
              "      <td>NaN</td>\n",
              "    </tr>\n",
              "    <tr>\n",
              "      <th>4</th>\n",
              "      <td>United Arab Emirates</td>\n",
              "      <td>Life expectancy at birth (years)</td>\n",
              "      <td>Published</td>\n",
              "      <td>2012</td>\n",
              "      <td>Eastern Mediterranean</td>\n",
              "      <td>High-income</td>\n",
              "      <td>Female</td>\n",
              "      <td>78</td>\n",
              "      <td>78.0</td>\n",
              "      <td>NaN</td>\n",
              "      <td>NaN</td>\n",
              "      <td>NaN</td>\n",
              "    </tr>\n",
              "  </tbody>\n",
              "</table>\n",
              "</div>"
            ],
            "text/plain": [
              "                Country                       Indicator_id Publication Status  \\\n",
              "0               Andorra   Life expectancy at birth (years)          Published   \n",
              "1               Andorra   Life expectancy at birth (years)          Published   \n",
              "2               Andorra  Life expectancy at age 60 (years)          Published   \n",
              "3               Andorra  Life expectancy at age 60 (years)          Published   \n",
              "4  United Arab Emirates   Life expectancy at birth (years)          Published   \n",
              "\n",
              "   Year             WHO Region World Bank income group         Sex  \\\n",
              "0  1990                 Europe             High-income  Both sexes   \n",
              "1  2000                 Europe             High-income  Both sexes   \n",
              "2  2012                 Europe             High-income      Female   \n",
              "3  2000                 Europe             High-income  Both sexes   \n",
              "4  2012  Eastern Mediterranean             High-income      Female   \n",
              "\n",
              "   Display Value  Numeric  Low  High  Comments  \n",
              "0             77     77.0  NaN   NaN       NaN  \n",
              "1             80     80.0  NaN   NaN       NaN  \n",
              "2             28     28.0  NaN   NaN       NaN  \n",
              "3             23     23.0  NaN   NaN       NaN  \n",
              "4             78     78.0  NaN   NaN       NaN  "
            ]
          },
          "metadata": {
            "tags": []
          },
          "execution_count": 14
        }
      ]
    },
    {
      "metadata": {
        "id": "6ZbVY-cwtZU-",
        "colab_type": "text"
      },
      "cell_type": "markdown",
      "source": [
        "\n",
        "**Q9. Get the column array using a variable**"
      ]
    },
    {
      "metadata": {
        "id": "okBlVGWPtbfZ",
        "colab_type": "code",
        "colab": {
          "autoexec": {
            "startup": false,
            "wait_interval": 0
          },
          "base_uri": "https://localhost:8080/",
          "height": 51
        },
        "outputId": "f583ed16-8ce6-45ae-8aad-b7aebb4c1a40",
        "executionInfo": {
          "status": "ok",
          "timestamp": 1533030031900,
          "user_tz": -330,
          "elapsed": 821,
          "user": {
            "displayName": "Rajaram Tripathy",
            "photoUrl": "//lh6.googleusercontent.com/-i36HQO2rFzQ/AAAAAAAAAAI/AAAAAAAAAmk/wo74Cfd039M/s50-c-k-no/photo.jpg",
            "userId": "114877031278411201428"
          }
        }
      },
      "cell_type": "code",
      "source": [
        "#the column array values for WHO Region column is retieved using values method and stored in a variable WHOregion\n",
        "WHOregion = df['WHO Region'].values\n",
        "WHOregion"
      ],
      "execution_count": 15,
      "outputs": [
        {
          "output_type": "execute_result",
          "data": {
            "text/plain": [
              "array(['Europe', 'Europe', 'Europe', ..., 'Africa', 'Africa', 'Africa'],\n",
              "      dtype=object)"
            ]
          },
          "metadata": {
            "tags": []
          },
          "execution_count": 15
        }
      ]
    },
    {
      "metadata": {
        "id": "deQt7P5YtgdO",
        "colab_type": "text"
      },
      "cell_type": "markdown",
      "source": [
        "**Q10. Get the subset rows 11, 24, 37**"
      ]
    },
    {
      "metadata": {
        "id": "y9kuyGB-tixF",
        "colab_type": "code",
        "colab": {
          "autoexec": {
            "startup": false,
            "wait_interval": 0
          },
          "base_uri": "https://localhost:8080/",
          "height": 210
        },
        "outputId": "07f4d0d4-d13e-4df9-d0a4-6aa49c04db07",
        "executionInfo": {
          "status": "ok",
          "timestamp": 1533030063373,
          "user_tz": -330,
          "elapsed": 823,
          "user": {
            "displayName": "Rajaram Tripathy",
            "photoUrl": "//lh6.googleusercontent.com/-i36HQO2rFzQ/AAAAAAAAAAI/AAAAAAAAAmk/wo74Cfd039M/s50-c-k-no/photo.jpg",
            "userId": "114877031278411201428"
          }
        }
      },
      "cell_type": "code",
      "source": [
        "# the row numbers specified can be retrieved using loc method which uses index values or row numbers as input\n",
        "df.iloc[[11,24,37]]"
      ],
      "execution_count": 16,
      "outputs": [
        {
          "output_type": "execute_result",
          "data": {
            "text/html": [
              "<div>\n",
              "<style scoped>\n",
              "    .dataframe tbody tr th:only-of-type {\n",
              "        vertical-align: middle;\n",
              "    }\n",
              "\n",
              "    .dataframe tbody tr th {\n",
              "        vertical-align: top;\n",
              "    }\n",
              "\n",
              "    .dataframe thead th {\n",
              "        text-align: right;\n",
              "    }\n",
              "</style>\n",
              "<table border=\"1\" class=\"dataframe\">\n",
              "  <thead>\n",
              "    <tr style=\"text-align: right;\">\n",
              "      <th></th>\n",
              "      <th>Indicator_id</th>\n",
              "      <th>Publication Status</th>\n",
              "      <th>Year</th>\n",
              "      <th>WHO Region</th>\n",
              "      <th>World Bank income group</th>\n",
              "      <th>Country</th>\n",
              "      <th>Sex</th>\n",
              "      <th>Display Value</th>\n",
              "      <th>Numeric</th>\n",
              "      <th>Low</th>\n",
              "      <th>High</th>\n",
              "      <th>Comments</th>\n",
              "    </tr>\n",
              "  </thead>\n",
              "  <tbody>\n",
              "    <tr>\n",
              "      <th>11</th>\n",
              "      <td>Life expectancy at birth (years)</td>\n",
              "      <td>Published</td>\n",
              "      <td>2012</td>\n",
              "      <td>Europe</td>\n",
              "      <td>High-income</td>\n",
              "      <td>Austria</td>\n",
              "      <td>Female</td>\n",
              "      <td>83</td>\n",
              "      <td>83.0</td>\n",
              "      <td>NaN</td>\n",
              "      <td>NaN</td>\n",
              "      <td>NaN</td>\n",
              "    </tr>\n",
              "    <tr>\n",
              "      <th>24</th>\n",
              "      <td>Life expectancy at age 60 (years)</td>\n",
              "      <td>Published</td>\n",
              "      <td>2012</td>\n",
              "      <td>Western Pacific</td>\n",
              "      <td>High-income</td>\n",
              "      <td>Brunei Darussalam</td>\n",
              "      <td>Female</td>\n",
              "      <td>21</td>\n",
              "      <td>21.0</td>\n",
              "      <td>NaN</td>\n",
              "      <td>NaN</td>\n",
              "      <td>NaN</td>\n",
              "    </tr>\n",
              "    <tr>\n",
              "      <th>37</th>\n",
              "      <td>Life expectancy at age 60 (years)</td>\n",
              "      <td>Published</td>\n",
              "      <td>2012</td>\n",
              "      <td>Europe</td>\n",
              "      <td>High-income</td>\n",
              "      <td>Cyprus</td>\n",
              "      <td>Female</td>\n",
              "      <td>26</td>\n",
              "      <td>26.0</td>\n",
              "      <td>NaN</td>\n",
              "      <td>NaN</td>\n",
              "      <td>NaN</td>\n",
              "    </tr>\n",
              "  </tbody>\n",
              "</table>\n",
              "</div>"
            ],
            "text/plain": [
              "                         Indicator_id Publication Status  Year  \\\n",
              "11   Life expectancy at birth (years)          Published  2012   \n",
              "24  Life expectancy at age 60 (years)          Published  2012   \n",
              "37  Life expectancy at age 60 (years)          Published  2012   \n",
              "\n",
              "         WHO Region World Bank income group            Country     Sex  \\\n",
              "11           Europe             High-income            Austria  Female   \n",
              "24  Western Pacific             High-income  Brunei Darussalam  Female   \n",
              "37           Europe             High-income             Cyprus  Female   \n",
              "\n",
              "    Display Value  Numeric  Low  High  Comments  \n",
              "11             83     83.0  NaN   NaN       NaN  \n",
              "24             21     21.0  NaN   NaN       NaN  \n",
              "37             26     26.0  NaN   NaN       NaN  "
            ]
          },
          "metadata": {
            "tags": []
          },
          "execution_count": 16
        }
      ]
    },
    {
      "metadata": {
        "id": "NUau4wrStpzq",
        "colab_type": "text"
      },
      "cell_type": "markdown",
      "source": [
        "**Q11. Get the subset rows excluding 5, 12, 23, and 56**"
      ]
    },
    {
      "metadata": {
        "id": "pN_1drm2tsAJ",
        "colab_type": "code",
        "colab": {
          "autoexec": {
            "startup": false,
            "wait_interval": 0
          },
          "base_uri": "https://localhost:8080/",
          "height": 306
        },
        "outputId": "a4689789-9ee3-4ee3-df30-ba5f979ce411",
        "executionInfo": {
          "status": "ok",
          "timestamp": 1533030102226,
          "user_tz": -330,
          "elapsed": 813,
          "user": {
            "displayName": "Rajaram Tripathy",
            "photoUrl": "//lh6.googleusercontent.com/-i36HQO2rFzQ/AAAAAAAAAAI/AAAAAAAAAmk/wo74Cfd039M/s50-c-k-no/photo.jpg",
            "userId": "114877031278411201428"
          }
        }
      },
      "cell_type": "code",
      "source": [
        "#first genearte a boolean array generating true values for index or row numbers in the list\n",
        "bad_df = df.index.isin([5,12,23,56])\n",
        "\n",
        "#filter out only the false values using ~ operator which will retrieve values corresponding \n",
        "#to all index values except for 5,12,23,56\n",
        "\n",
        "df[~bad_df].head()"
      ],
      "execution_count": 17,
      "outputs": [
        {
          "output_type": "execute_result",
          "data": {
            "text/html": [
              "<div>\n",
              "<style scoped>\n",
              "    .dataframe tbody tr th:only-of-type {\n",
              "        vertical-align: middle;\n",
              "    }\n",
              "\n",
              "    .dataframe tbody tr th {\n",
              "        vertical-align: top;\n",
              "    }\n",
              "\n",
              "    .dataframe thead th {\n",
              "        text-align: right;\n",
              "    }\n",
              "</style>\n",
              "<table border=\"1\" class=\"dataframe\">\n",
              "  <thead>\n",
              "    <tr style=\"text-align: right;\">\n",
              "      <th></th>\n",
              "      <th>Indicator_id</th>\n",
              "      <th>Publication Status</th>\n",
              "      <th>Year</th>\n",
              "      <th>WHO Region</th>\n",
              "      <th>World Bank income group</th>\n",
              "      <th>Country</th>\n",
              "      <th>Sex</th>\n",
              "      <th>Display Value</th>\n",
              "      <th>Numeric</th>\n",
              "      <th>Low</th>\n",
              "      <th>High</th>\n",
              "      <th>Comments</th>\n",
              "    </tr>\n",
              "  </thead>\n",
              "  <tbody>\n",
              "    <tr>\n",
              "      <th>0</th>\n",
              "      <td>Life expectancy at birth (years)</td>\n",
              "      <td>Published</td>\n",
              "      <td>1990</td>\n",
              "      <td>Europe</td>\n",
              "      <td>High-income</td>\n",
              "      <td>Andorra</td>\n",
              "      <td>Both sexes</td>\n",
              "      <td>77</td>\n",
              "      <td>77.0</td>\n",
              "      <td>NaN</td>\n",
              "      <td>NaN</td>\n",
              "      <td>NaN</td>\n",
              "    </tr>\n",
              "    <tr>\n",
              "      <th>1</th>\n",
              "      <td>Life expectancy at birth (years)</td>\n",
              "      <td>Published</td>\n",
              "      <td>2000</td>\n",
              "      <td>Europe</td>\n",
              "      <td>High-income</td>\n",
              "      <td>Andorra</td>\n",
              "      <td>Both sexes</td>\n",
              "      <td>80</td>\n",
              "      <td>80.0</td>\n",
              "      <td>NaN</td>\n",
              "      <td>NaN</td>\n",
              "      <td>NaN</td>\n",
              "    </tr>\n",
              "    <tr>\n",
              "      <th>2</th>\n",
              "      <td>Life expectancy at age 60 (years)</td>\n",
              "      <td>Published</td>\n",
              "      <td>2012</td>\n",
              "      <td>Europe</td>\n",
              "      <td>High-income</td>\n",
              "      <td>Andorra</td>\n",
              "      <td>Female</td>\n",
              "      <td>28</td>\n",
              "      <td>28.0</td>\n",
              "      <td>NaN</td>\n",
              "      <td>NaN</td>\n",
              "      <td>NaN</td>\n",
              "    </tr>\n",
              "    <tr>\n",
              "      <th>3</th>\n",
              "      <td>Life expectancy at age 60 (years)</td>\n",
              "      <td>Published</td>\n",
              "      <td>2000</td>\n",
              "      <td>Europe</td>\n",
              "      <td>High-income</td>\n",
              "      <td>Andorra</td>\n",
              "      <td>Both sexes</td>\n",
              "      <td>23</td>\n",
              "      <td>23.0</td>\n",
              "      <td>NaN</td>\n",
              "      <td>NaN</td>\n",
              "      <td>NaN</td>\n",
              "    </tr>\n",
              "    <tr>\n",
              "      <th>4</th>\n",
              "      <td>Life expectancy at birth (years)</td>\n",
              "      <td>Published</td>\n",
              "      <td>2012</td>\n",
              "      <td>Eastern Mediterranean</td>\n",
              "      <td>High-income</td>\n",
              "      <td>United Arab Emirates</td>\n",
              "      <td>Female</td>\n",
              "      <td>78</td>\n",
              "      <td>78.0</td>\n",
              "      <td>NaN</td>\n",
              "      <td>NaN</td>\n",
              "      <td>NaN</td>\n",
              "    </tr>\n",
              "  </tbody>\n",
              "</table>\n",
              "</div>"
            ],
            "text/plain": [
              "                        Indicator_id Publication Status  Year  \\\n",
              "0   Life expectancy at birth (years)          Published  1990   \n",
              "1   Life expectancy at birth (years)          Published  2000   \n",
              "2  Life expectancy at age 60 (years)          Published  2012   \n",
              "3  Life expectancy at age 60 (years)          Published  2000   \n",
              "4   Life expectancy at birth (years)          Published  2012   \n",
              "\n",
              "              WHO Region World Bank income group               Country  \\\n",
              "0                 Europe             High-income               Andorra   \n",
              "1                 Europe             High-income               Andorra   \n",
              "2                 Europe             High-income               Andorra   \n",
              "3                 Europe             High-income               Andorra   \n",
              "4  Eastern Mediterranean             High-income  United Arab Emirates   \n",
              "\n",
              "          Sex  Display Value  Numeric  Low  High  Comments  \n",
              "0  Both sexes             77     77.0  NaN   NaN       NaN  \n",
              "1  Both sexes             80     80.0  NaN   NaN       NaN  \n",
              "2      Female             28     28.0  NaN   NaN       NaN  \n",
              "3  Both sexes             23     23.0  NaN   NaN       NaN  \n",
              "4      Female             78     78.0  NaN   NaN       NaN  "
            ]
          },
          "metadata": {
            "tags": []
          },
          "execution_count": 17
        }
      ]
    },
    {
      "metadata": {
        "id": "hh7DFH_iuIkc",
        "colab_type": "text"
      },
      "cell_type": "markdown",
      "source": [
        "\n",
        "**Load datasets from CSV**"
      ]
    },
    {
      "metadata": {
        "id": "7UM1iHrIuK8y",
        "colab_type": "code",
        "colab": {
          "autoexec": {
            "startup": false,
            "wait_interval": 0
          },
          "base_uri": "https://localhost:8080/",
          "height": 204
        },
        "outputId": "ddf53678-902a-46a3-9e51-412f1e57605d",
        "executionInfo": {
          "status": "ok",
          "timestamp": 1533030228811,
          "user_tz": -330,
          "elapsed": 2053,
          "user": {
            "displayName": "Rajaram Tripathy",
            "photoUrl": "//lh6.googleusercontent.com/-i36HQO2rFzQ/AAAAAAAAAAI/AAAAAAAAAmk/wo74Cfd039M/s50-c-k-no/photo.jpg",
            "userId": "114877031278411201428"
          }
        }
      },
      "cell_type": "code",
      "source": [
        "#load into users dataframe\n",
        "users = pd.read_csv('https://raw.githubusercontent.com/ben519/DataWrangling/master/Data/users.csv')\n",
        "users.head()"
      ],
      "execution_count": 18,
      "outputs": [
        {
          "output_type": "execute_result",
          "data": {
            "text/html": [
              "<div>\n",
              "<style scoped>\n",
              "    .dataframe tbody tr th:only-of-type {\n",
              "        vertical-align: middle;\n",
              "    }\n",
              "\n",
              "    .dataframe tbody tr th {\n",
              "        vertical-align: top;\n",
              "    }\n",
              "\n",
              "    .dataframe thead th {\n",
              "        text-align: right;\n",
              "    }\n",
              "</style>\n",
              "<table border=\"1\" class=\"dataframe\">\n",
              "  <thead>\n",
              "    <tr style=\"text-align: right;\">\n",
              "      <th></th>\n",
              "      <th>UserID</th>\n",
              "      <th>User</th>\n",
              "      <th>Gender</th>\n",
              "      <th>Registered</th>\n",
              "      <th>Cancelled</th>\n",
              "    </tr>\n",
              "  </thead>\n",
              "  <tbody>\n",
              "    <tr>\n",
              "      <th>0</th>\n",
              "      <td>1</td>\n",
              "      <td>Charles</td>\n",
              "      <td>male</td>\n",
              "      <td>2012-12-21</td>\n",
              "      <td>NaN</td>\n",
              "    </tr>\n",
              "    <tr>\n",
              "      <th>1</th>\n",
              "      <td>2</td>\n",
              "      <td>Pedro</td>\n",
              "      <td>male</td>\n",
              "      <td>2010-08-01</td>\n",
              "      <td>2010-08-08</td>\n",
              "    </tr>\n",
              "    <tr>\n",
              "      <th>2</th>\n",
              "      <td>3</td>\n",
              "      <td>Caroline</td>\n",
              "      <td>female</td>\n",
              "      <td>2012-10-23</td>\n",
              "      <td>2016-06-07</td>\n",
              "    </tr>\n",
              "    <tr>\n",
              "      <th>3</th>\n",
              "      <td>4</td>\n",
              "      <td>Brielle</td>\n",
              "      <td>female</td>\n",
              "      <td>2013-07-17</td>\n",
              "      <td>NaN</td>\n",
              "    </tr>\n",
              "    <tr>\n",
              "      <th>4</th>\n",
              "      <td>5</td>\n",
              "      <td>Benjamin</td>\n",
              "      <td>male</td>\n",
              "      <td>2010-11-25</td>\n",
              "      <td>NaN</td>\n",
              "    </tr>\n",
              "  </tbody>\n",
              "</table>\n",
              "</div>"
            ],
            "text/plain": [
              "   UserID      User  Gender  Registered   Cancelled\n",
              "0       1   Charles    male  2012-12-21         NaN\n",
              "1       2     Pedro    male  2010-08-01  2010-08-08\n",
              "2       3  Caroline  female  2012-10-23  2016-06-07\n",
              "3       4   Brielle  female  2013-07-17         NaN\n",
              "4       5  Benjamin    male  2010-11-25         NaN"
            ]
          },
          "metadata": {
            "tags": []
          },
          "execution_count": 18
        }
      ]
    },
    {
      "metadata": {
        "id": "rMKrrJC0uQXS",
        "colab_type": "code",
        "colab": {
          "autoexec": {
            "startup": false,
            "wait_interval": 0
          },
          "base_uri": "https://localhost:8080/",
          "height": 204
        },
        "outputId": "98cb6e5d-31bf-4cc0-c254-1441ae37cf75",
        "executionInfo": {
          "status": "ok",
          "timestamp": 1533030241257,
          "user_tz": -330,
          "elapsed": 793,
          "user": {
            "displayName": "Rajaram Tripathy",
            "photoUrl": "//lh6.googleusercontent.com/-i36HQO2rFzQ/AAAAAAAAAAI/AAAAAAAAAmk/wo74Cfd039M/s50-c-k-no/photo.jpg",
            "userId": "114877031278411201428"
          }
        }
      },
      "cell_type": "code",
      "source": [
        "#load into sessions dataframe\n",
        "sessions =pd.read_csv('https://raw.githubusercontent.com/ben519/DataWrangling/master/Data/sessions.csv')\n",
        "sessions.head()"
      ],
      "execution_count": 19,
      "outputs": [
        {
          "output_type": "execute_result",
          "data": {
            "text/html": [
              "<div>\n",
              "<style scoped>\n",
              "    .dataframe tbody tr th:only-of-type {\n",
              "        vertical-align: middle;\n",
              "    }\n",
              "\n",
              "    .dataframe tbody tr th {\n",
              "        vertical-align: top;\n",
              "    }\n",
              "\n",
              "    .dataframe thead th {\n",
              "        text-align: right;\n",
              "    }\n",
              "</style>\n",
              "<table border=\"1\" class=\"dataframe\">\n",
              "  <thead>\n",
              "    <tr style=\"text-align: right;\">\n",
              "      <th></th>\n",
              "      <th>SessionID</th>\n",
              "      <th>SessionDate</th>\n",
              "      <th>UserID</th>\n",
              "    </tr>\n",
              "  </thead>\n",
              "  <tbody>\n",
              "    <tr>\n",
              "      <th>0</th>\n",
              "      <td>1</td>\n",
              "      <td>2010-01-05</td>\n",
              "      <td>2</td>\n",
              "    </tr>\n",
              "    <tr>\n",
              "      <th>1</th>\n",
              "      <td>2</td>\n",
              "      <td>2010-08-01</td>\n",
              "      <td>2</td>\n",
              "    </tr>\n",
              "    <tr>\n",
              "      <th>2</th>\n",
              "      <td>3</td>\n",
              "      <td>2010-11-25</td>\n",
              "      <td>2</td>\n",
              "    </tr>\n",
              "    <tr>\n",
              "      <th>3</th>\n",
              "      <td>4</td>\n",
              "      <td>2011-09-21</td>\n",
              "      <td>5</td>\n",
              "    </tr>\n",
              "    <tr>\n",
              "      <th>4</th>\n",
              "      <td>5</td>\n",
              "      <td>2011-10-19</td>\n",
              "      <td>4</td>\n",
              "    </tr>\n",
              "  </tbody>\n",
              "</table>\n",
              "</div>"
            ],
            "text/plain": [
              "   SessionID SessionDate  UserID\n",
              "0          1  2010-01-05       2\n",
              "1          2  2010-08-01       2\n",
              "2          3  2010-11-25       2\n",
              "3          4  2011-09-21       5\n",
              "4          5  2011-10-19       4"
            ]
          },
          "metadata": {
            "tags": []
          },
          "execution_count": 19
        }
      ]
    },
    {
      "metadata": {
        "id": "JmxRX_15uSnV",
        "colab_type": "code",
        "colab": {
          "autoexec": {
            "startup": false,
            "wait_interval": 0
          },
          "base_uri": "https://localhost:8080/",
          "height": 204
        },
        "outputId": "83affaae-616a-47bb-abad-afaac1456591",
        "executionInfo": {
          "status": "ok",
          "timestamp": 1533030261810,
          "user_tz": -330,
          "elapsed": 823,
          "user": {
            "displayName": "Rajaram Tripathy",
            "photoUrl": "//lh6.googleusercontent.com/-i36HQO2rFzQ/AAAAAAAAAAI/AAAAAAAAAmk/wo74Cfd039M/s50-c-k-no/photo.jpg",
            "userId": "114877031278411201428"
          }
        }
      },
      "cell_type": "code",
      "source": [
        "#load into products dataframe\n",
        "products = pd.read_csv('https://raw.githubusercontent.com/ben519/DataWrangling/master/Data/products.csv')\n",
        "products.head()"
      ],
      "execution_count": 20,
      "outputs": [
        {
          "output_type": "execute_result",
          "data": {
            "text/html": [
              "<div>\n",
              "<style scoped>\n",
              "    .dataframe tbody tr th:only-of-type {\n",
              "        vertical-align: middle;\n",
              "    }\n",
              "\n",
              "    .dataframe tbody tr th {\n",
              "        vertical-align: top;\n",
              "    }\n",
              "\n",
              "    .dataframe thead th {\n",
              "        text-align: right;\n",
              "    }\n",
              "</style>\n",
              "<table border=\"1\" class=\"dataframe\">\n",
              "  <thead>\n",
              "    <tr style=\"text-align: right;\">\n",
              "      <th></th>\n",
              "      <th>ProductID</th>\n",
              "      <th>Product</th>\n",
              "      <th>Price</th>\n",
              "    </tr>\n",
              "  </thead>\n",
              "  <tbody>\n",
              "    <tr>\n",
              "      <th>0</th>\n",
              "      <td>1</td>\n",
              "      <td>A</td>\n",
              "      <td>14.16</td>\n",
              "    </tr>\n",
              "    <tr>\n",
              "      <th>1</th>\n",
              "      <td>2</td>\n",
              "      <td>B</td>\n",
              "      <td>33.04</td>\n",
              "    </tr>\n",
              "    <tr>\n",
              "      <th>2</th>\n",
              "      <td>3</td>\n",
              "      <td>C</td>\n",
              "      <td>10.65</td>\n",
              "    </tr>\n",
              "    <tr>\n",
              "      <th>3</th>\n",
              "      <td>4</td>\n",
              "      <td>D</td>\n",
              "      <td>10.02</td>\n",
              "    </tr>\n",
              "    <tr>\n",
              "      <th>4</th>\n",
              "      <td>5</td>\n",
              "      <td>E</td>\n",
              "      <td>29.66</td>\n",
              "    </tr>\n",
              "  </tbody>\n",
              "</table>\n",
              "</div>"
            ],
            "text/plain": [
              "   ProductID Product  Price\n",
              "0          1       A  14.16\n",
              "1          2       B  33.04\n",
              "2          3       C  10.65\n",
              "3          4       D  10.02\n",
              "4          5       E  29.66"
            ]
          },
          "metadata": {
            "tags": []
          },
          "execution_count": 20
        }
      ]
    },
    {
      "metadata": {
        "id": "EPItRliwuZNy",
        "colab_type": "code",
        "colab": {
          "autoexec": {
            "startup": false,
            "wait_interval": 0
          },
          "base_uri": "https://localhost:8080/",
          "height": 204
        },
        "outputId": "e45aa4fd-2784-4f84-f43a-09b6bfd15151",
        "executionInfo": {
          "status": "ok",
          "timestamp": 1533030277172,
          "user_tz": -330,
          "elapsed": 804,
          "user": {
            "displayName": "Rajaram Tripathy",
            "photoUrl": "//lh6.googleusercontent.com/-i36HQO2rFzQ/AAAAAAAAAAI/AAAAAAAAAmk/wo74Cfd039M/s50-c-k-no/photo.jpg",
            "userId": "114877031278411201428"
          }
        }
      },
      "cell_type": "code",
      "source": [
        "#load into transactions dataframe\n",
        "transactions = pd.read_csv('https://raw.githubusercontent.com/ben519/DataWrangling/master/Data/transactions.csv')\n",
        "transactions.head()"
      ],
      "execution_count": 21,
      "outputs": [
        {
          "output_type": "execute_result",
          "data": {
            "text/html": [
              "<div>\n",
              "<style scoped>\n",
              "    .dataframe tbody tr th:only-of-type {\n",
              "        vertical-align: middle;\n",
              "    }\n",
              "\n",
              "    .dataframe tbody tr th {\n",
              "        vertical-align: top;\n",
              "    }\n",
              "\n",
              "    .dataframe thead th {\n",
              "        text-align: right;\n",
              "    }\n",
              "</style>\n",
              "<table border=\"1\" class=\"dataframe\">\n",
              "  <thead>\n",
              "    <tr style=\"text-align: right;\">\n",
              "      <th></th>\n",
              "      <th>TransactionID</th>\n",
              "      <th>TransactionDate</th>\n",
              "      <th>UserID</th>\n",
              "      <th>ProductID</th>\n",
              "      <th>Quantity</th>\n",
              "    </tr>\n",
              "  </thead>\n",
              "  <tbody>\n",
              "    <tr>\n",
              "      <th>0</th>\n",
              "      <td>1</td>\n",
              "      <td>2010-08-21</td>\n",
              "      <td>7.0</td>\n",
              "      <td>2</td>\n",
              "      <td>1</td>\n",
              "    </tr>\n",
              "    <tr>\n",
              "      <th>1</th>\n",
              "      <td>2</td>\n",
              "      <td>2011-05-26</td>\n",
              "      <td>3.0</td>\n",
              "      <td>4</td>\n",
              "      <td>1</td>\n",
              "    </tr>\n",
              "    <tr>\n",
              "      <th>2</th>\n",
              "      <td>3</td>\n",
              "      <td>2011-06-16</td>\n",
              "      <td>3.0</td>\n",
              "      <td>3</td>\n",
              "      <td>1</td>\n",
              "    </tr>\n",
              "    <tr>\n",
              "      <th>3</th>\n",
              "      <td>4</td>\n",
              "      <td>2012-08-26</td>\n",
              "      <td>1.0</td>\n",
              "      <td>2</td>\n",
              "      <td>3</td>\n",
              "    </tr>\n",
              "    <tr>\n",
              "      <th>4</th>\n",
              "      <td>5</td>\n",
              "      <td>2013-06-06</td>\n",
              "      <td>2.0</td>\n",
              "      <td>4</td>\n",
              "      <td>1</td>\n",
              "    </tr>\n",
              "  </tbody>\n",
              "</table>\n",
              "</div>"
            ],
            "text/plain": [
              "   TransactionID TransactionDate  UserID  ProductID  Quantity\n",
              "0              1      2010-08-21     7.0          2         1\n",
              "1              2      2011-05-26     3.0          4         1\n",
              "2              3      2011-06-16     3.0          3         1\n",
              "3              4      2012-08-26     1.0          2         3\n",
              "4              5      2013-06-06     2.0          4         1"
            ]
          },
          "metadata": {
            "tags": []
          },
          "execution_count": 21
        }
      ]
    },
    {
      "metadata": {
        "id": "SArP8xL2uedF",
        "colab_type": "code",
        "colab": {
          "autoexec": {
            "startup": false,
            "wait_interval": 0
          },
          "base_uri": "https://localhost:8080/",
          "height": 85
        },
        "outputId": "099ded48-8e73-4ec0-a320-88a0d97c06c3",
        "executionInfo": {
          "status": "ok",
          "timestamp": 1533030299556,
          "user_tz": -330,
          "elapsed": 856,
          "user": {
            "displayName": "Rajaram Tripathy",
            "photoUrl": "//lh6.googleusercontent.com/-i36HQO2rFzQ/AAAAAAAAAAI/AAAAAAAAAmk/wo74Cfd039M/s50-c-k-no/photo.jpg",
            "userId": "114877031278411201428"
          }
        }
      },
      "cell_type": "code",
      "source": [
        "print(users['Registered'].dtype)\n",
        "print(users['Cancelled'].dtype)\n",
        "print(sessions['SessionDate'].dtype)\n",
        "print(transactions['TransactionDate'].dtype)"
      ],
      "execution_count": 22,
      "outputs": [
        {
          "output_type": "stream",
          "text": [
            "object\n",
            "object\n",
            "object\n",
            "object\n"
          ],
          "name": "stdout"
        }
      ]
    },
    {
      "metadata": {
        "id": "hZkzV6xFujpZ",
        "colab_type": "code",
        "colab": {
          "autoexec": {
            "startup": false,
            "wait_interval": 0
          }
        }
      },
      "cell_type": "code",
      "source": [
        "#converting to datetime values using to_datetime method in pandas as these column values had a datatype as 'Object'.\n",
        "users['Registered'] = pd.to_datetime(users['Registered'])\n",
        "users['Cancelled'] = pd.to_datetime(users['Cancelled'])\n",
        "sessions['SessionDate'] = pd.to_datetime(sessions['SessionDate'])\n",
        "transactions['TransactionDate'] = pd.to_datetime(transactions['TransactionDate'])"
      ],
      "execution_count": 0,
      "outputs": []
    },
    {
      "metadata": {
        "id": "fYt3zqjCunlk",
        "colab_type": "text"
      },
      "cell_type": "markdown",
      "source": [
        "\n",
        "**Q12. Join users to transactions, keeping all rows from transactions and only matching rows from users (left join)**"
      ]
    },
    {
      "metadata": {
        "id": "s2bB4r0uup1X",
        "colab_type": "code",
        "colab": {
          "autoexec": {
            "startup": false,
            "wait_interval": 0
          },
          "base_uri": "https://localhost:8080/",
          "height": 359
        },
        "outputId": "2fba90a6-1b0c-4a78-d61f-4b5ac770736e",
        "executionInfo": {
          "status": "ok",
          "timestamp": 1533030353923,
          "user_tz": -330,
          "elapsed": 832,
          "user": {
            "displayName": "Rajaram Tripathy",
            "photoUrl": "//lh6.googleusercontent.com/-i36HQO2rFzQ/AAAAAAAAAAI/AAAAAAAAAmk/wo74Cfd039M/s50-c-k-no/photo.jpg",
            "userId": "114877031278411201428"
          }
        }
      },
      "cell_type": "code",
      "source": [
        "#doing a left outter join on transactions and user on the basis of UserID column\n",
        "#result stored in a dataframe df_merge_trans_users\n",
        "df_Left_trans_users = pd.merge(transactions,users,how=\"left\",on=\"UserID\")\n",
        "df_Left_trans_users"
      ],
      "execution_count": 24,
      "outputs": [
        {
          "output_type": "execute_result",
          "data": {
            "text/html": [
              "<div>\n",
              "<style scoped>\n",
              "    .dataframe tbody tr th:only-of-type {\n",
              "        vertical-align: middle;\n",
              "    }\n",
              "\n",
              "    .dataframe tbody tr th {\n",
              "        vertical-align: top;\n",
              "    }\n",
              "\n",
              "    .dataframe thead th {\n",
              "        text-align: right;\n",
              "    }\n",
              "</style>\n",
              "<table border=\"1\" class=\"dataframe\">\n",
              "  <thead>\n",
              "    <tr style=\"text-align: right;\">\n",
              "      <th></th>\n",
              "      <th>TransactionID</th>\n",
              "      <th>TransactionDate</th>\n",
              "      <th>UserID</th>\n",
              "      <th>ProductID</th>\n",
              "      <th>Quantity</th>\n",
              "      <th>User</th>\n",
              "      <th>Gender</th>\n",
              "      <th>Registered</th>\n",
              "      <th>Cancelled</th>\n",
              "    </tr>\n",
              "  </thead>\n",
              "  <tbody>\n",
              "    <tr>\n",
              "      <th>0</th>\n",
              "      <td>1</td>\n",
              "      <td>2010-08-21</td>\n",
              "      <td>7</td>\n",
              "      <td>2</td>\n",
              "      <td>1</td>\n",
              "      <td>NaN</td>\n",
              "      <td>NaN</td>\n",
              "      <td>NaT</td>\n",
              "      <td>NaT</td>\n",
              "    </tr>\n",
              "    <tr>\n",
              "      <th>1</th>\n",
              "      <td>2</td>\n",
              "      <td>2011-05-26</td>\n",
              "      <td>3</td>\n",
              "      <td>4</td>\n",
              "      <td>1</td>\n",
              "      <td>Caroline</td>\n",
              "      <td>female</td>\n",
              "      <td>2012-10-23</td>\n",
              "      <td>2016-06-07</td>\n",
              "    </tr>\n",
              "    <tr>\n",
              "      <th>2</th>\n",
              "      <td>3</td>\n",
              "      <td>2011-06-16</td>\n",
              "      <td>3</td>\n",
              "      <td>3</td>\n",
              "      <td>1</td>\n",
              "      <td>Caroline</td>\n",
              "      <td>female</td>\n",
              "      <td>2012-10-23</td>\n",
              "      <td>2016-06-07</td>\n",
              "    </tr>\n",
              "    <tr>\n",
              "      <th>3</th>\n",
              "      <td>4</td>\n",
              "      <td>2012-08-26</td>\n",
              "      <td>1</td>\n",
              "      <td>2</td>\n",
              "      <td>3</td>\n",
              "      <td>Charles</td>\n",
              "      <td>male</td>\n",
              "      <td>2012-12-21</td>\n",
              "      <td>NaT</td>\n",
              "    </tr>\n",
              "    <tr>\n",
              "      <th>4</th>\n",
              "      <td>5</td>\n",
              "      <td>2013-06-06</td>\n",
              "      <td>2</td>\n",
              "      <td>4</td>\n",
              "      <td>1</td>\n",
              "      <td>Pedro</td>\n",
              "      <td>male</td>\n",
              "      <td>2010-08-01</td>\n",
              "      <td>2010-08-08</td>\n",
              "    </tr>\n",
              "    <tr>\n",
              "      <th>5</th>\n",
              "      <td>6</td>\n",
              "      <td>2013-12-23</td>\n",
              "      <td>2</td>\n",
              "      <td>5</td>\n",
              "      <td>6</td>\n",
              "      <td>Pedro</td>\n",
              "      <td>male</td>\n",
              "      <td>2010-08-01</td>\n",
              "      <td>2010-08-08</td>\n",
              "    </tr>\n",
              "    <tr>\n",
              "      <th>6</th>\n",
              "      <td>7</td>\n",
              "      <td>2013-12-30</td>\n",
              "      <td>3</td>\n",
              "      <td>4</td>\n",
              "      <td>1</td>\n",
              "      <td>Caroline</td>\n",
              "      <td>female</td>\n",
              "      <td>2012-10-23</td>\n",
              "      <td>2016-06-07</td>\n",
              "    </tr>\n",
              "    <tr>\n",
              "      <th>7</th>\n",
              "      <td>8</td>\n",
              "      <td>2014-04-24</td>\n",
              "      <td>NaN</td>\n",
              "      <td>2</td>\n",
              "      <td>3</td>\n",
              "      <td>NaN</td>\n",
              "      <td>NaN</td>\n",
              "      <td>NaT</td>\n",
              "      <td>NaT</td>\n",
              "    </tr>\n",
              "    <tr>\n",
              "      <th>8</th>\n",
              "      <td>9</td>\n",
              "      <td>2015-04-24</td>\n",
              "      <td>7</td>\n",
              "      <td>4</td>\n",
              "      <td>3</td>\n",
              "      <td>NaN</td>\n",
              "      <td>NaN</td>\n",
              "      <td>NaT</td>\n",
              "      <td>NaT</td>\n",
              "    </tr>\n",
              "    <tr>\n",
              "      <th>9</th>\n",
              "      <td>10</td>\n",
              "      <td>2016-05-08</td>\n",
              "      <td>3</td>\n",
              "      <td>4</td>\n",
              "      <td>4</td>\n",
              "      <td>Caroline</td>\n",
              "      <td>female</td>\n",
              "      <td>2012-10-23</td>\n",
              "      <td>2016-06-07</td>\n",
              "    </tr>\n",
              "  </tbody>\n",
              "</table>\n",
              "</div>"
            ],
            "text/plain": [
              "   TransactionID TransactionDate UserID  ProductID  Quantity      User  \\\n",
              "0              1      2010-08-21      7          2         1       NaN   \n",
              "1              2      2011-05-26      3          4         1  Caroline   \n",
              "2              3      2011-06-16      3          3         1  Caroline   \n",
              "3              4      2012-08-26      1          2         3   Charles   \n",
              "4              5      2013-06-06      2          4         1     Pedro   \n",
              "5              6      2013-12-23      2          5         6     Pedro   \n",
              "6              7      2013-12-30      3          4         1  Caroline   \n",
              "7              8      2014-04-24    NaN          2         3       NaN   \n",
              "8              9      2015-04-24      7          4         3       NaN   \n",
              "9             10      2016-05-08      3          4         4  Caroline   \n",
              "\n",
              "   Gender Registered  Cancelled  \n",
              "0     NaN        NaT        NaT  \n",
              "1  female 2012-10-23 2016-06-07  \n",
              "2  female 2012-10-23 2016-06-07  \n",
              "3    male 2012-12-21        NaT  \n",
              "4    male 2010-08-01 2010-08-08  \n",
              "5    male 2010-08-01 2010-08-08  \n",
              "6  female 2012-10-23 2016-06-07  \n",
              "7     NaN        NaT        NaT  \n",
              "8     NaN        NaT        NaT  \n",
              "9  female 2012-10-23 2016-06-07  "
            ]
          },
          "metadata": {
            "tags": []
          },
          "execution_count": 24
        }
      ]
    },
    {
      "metadata": {
        "id": "rxlf6dhYuvzy",
        "colab_type": "text"
      },
      "cell_type": "markdown",
      "source": [
        "\n",
        "**Q13. Which transactions have a UserID not in users?**"
      ]
    },
    {
      "metadata": {
        "id": "N86IGh7_uyIq",
        "colab_type": "code",
        "colab": {
          "autoexec": {
            "startup": false,
            "wait_interval": 0
          },
          "base_uri": "https://localhost:8080/",
          "height": 142
        },
        "outputId": "9432a608-ae62-4448-b950-9cc15a1459db",
        "executionInfo": {
          "status": "ok",
          "timestamp": 1533030388734,
          "user_tz": -330,
          "elapsed": 833,
          "user": {
            "displayName": "Rajaram Tripathy",
            "photoUrl": "//lh6.googleusercontent.com/-i36HQO2rFzQ/AAAAAAAAAAI/AAAAAAAAAmk/wo74Cfd039M/s50-c-k-no/photo.jpg",
            "userId": "114877031278411201428"
          }
        }
      },
      "cell_type": "code",
      "source": [
        "#filter elements in transaction table which have UserID present in transactions table but not registered in users table\n",
        "transactions[~transactions['UserID'].isin(users['UserID'])]"
      ],
      "execution_count": 25,
      "outputs": [
        {
          "output_type": "execute_result",
          "data": {
            "text/html": [
              "<div>\n",
              "<style scoped>\n",
              "    .dataframe tbody tr th:only-of-type {\n",
              "        vertical-align: middle;\n",
              "    }\n",
              "\n",
              "    .dataframe tbody tr th {\n",
              "        vertical-align: top;\n",
              "    }\n",
              "\n",
              "    .dataframe thead th {\n",
              "        text-align: right;\n",
              "    }\n",
              "</style>\n",
              "<table border=\"1\" class=\"dataframe\">\n",
              "  <thead>\n",
              "    <tr style=\"text-align: right;\">\n",
              "      <th></th>\n",
              "      <th>TransactionID</th>\n",
              "      <th>TransactionDate</th>\n",
              "      <th>UserID</th>\n",
              "      <th>ProductID</th>\n",
              "      <th>Quantity</th>\n",
              "    </tr>\n",
              "  </thead>\n",
              "  <tbody>\n",
              "    <tr>\n",
              "      <th>0</th>\n",
              "      <td>1</td>\n",
              "      <td>2010-08-21</td>\n",
              "      <td>7.0</td>\n",
              "      <td>2</td>\n",
              "      <td>1</td>\n",
              "    </tr>\n",
              "    <tr>\n",
              "      <th>7</th>\n",
              "      <td>8</td>\n",
              "      <td>2014-04-24</td>\n",
              "      <td>NaN</td>\n",
              "      <td>2</td>\n",
              "      <td>3</td>\n",
              "    </tr>\n",
              "    <tr>\n",
              "      <th>8</th>\n",
              "      <td>9</td>\n",
              "      <td>2015-04-24</td>\n",
              "      <td>7.0</td>\n",
              "      <td>4</td>\n",
              "      <td>3</td>\n",
              "    </tr>\n",
              "  </tbody>\n",
              "</table>\n",
              "</div>"
            ],
            "text/plain": [
              "   TransactionID TransactionDate  UserID  ProductID  Quantity\n",
              "0              1      2010-08-21     7.0          2         1\n",
              "7              8      2014-04-24     NaN          2         3\n",
              "8              9      2015-04-24     7.0          4         3"
            ]
          },
          "metadata": {
            "tags": []
          },
          "execution_count": 25
        }
      ]
    },
    {
      "metadata": {
        "id": "TY_oTbTku7mo",
        "colab_type": "text"
      },
      "cell_type": "markdown",
      "source": [
        "**Q14. Join users to transactions, keeping only rows from transactions and users that match via UserID (inner join)**"
      ]
    },
    {
      "metadata": {
        "id": "xy1pYFg-u96U",
        "colab_type": "code",
        "colab": {
          "autoexec": {
            "startup": false,
            "wait_interval": 0
          },
          "base_uri": "https://localhost:8080/",
          "height": 266
        },
        "outputId": "1f967d04-ebb6-458d-838d-6d2736103fef",
        "executionInfo": {
          "status": "ok",
          "timestamp": 1533030438674,
          "user_tz": -330,
          "elapsed": 1019,
          "user": {
            "displayName": "Rajaram Tripathy",
            "photoUrl": "//lh6.googleusercontent.com/-i36HQO2rFzQ/AAAAAAAAAAI/AAAAAAAAAmk/wo74Cfd039M/s50-c-k-no/photo.jpg",
            "userId": "114877031278411201428"
          }
        }
      },
      "cell_type": "code",
      "source": [
        "df_Inner_trans_users = pd.merge(transactions,users,how=\"inner\",on=\"UserID\")\n",
        "df_Inner_trans_users"
      ],
      "execution_count": 26,
      "outputs": [
        {
          "output_type": "execute_result",
          "data": {
            "text/html": [
              "<div>\n",
              "<style scoped>\n",
              "    .dataframe tbody tr th:only-of-type {\n",
              "        vertical-align: middle;\n",
              "    }\n",
              "\n",
              "    .dataframe tbody tr th {\n",
              "        vertical-align: top;\n",
              "    }\n",
              "\n",
              "    .dataframe thead th {\n",
              "        text-align: right;\n",
              "    }\n",
              "</style>\n",
              "<table border=\"1\" class=\"dataframe\">\n",
              "  <thead>\n",
              "    <tr style=\"text-align: right;\">\n",
              "      <th></th>\n",
              "      <th>TransactionID</th>\n",
              "      <th>TransactionDate</th>\n",
              "      <th>UserID</th>\n",
              "      <th>ProductID</th>\n",
              "      <th>Quantity</th>\n",
              "      <th>User</th>\n",
              "      <th>Gender</th>\n",
              "      <th>Registered</th>\n",
              "      <th>Cancelled</th>\n",
              "    </tr>\n",
              "  </thead>\n",
              "  <tbody>\n",
              "    <tr>\n",
              "      <th>0</th>\n",
              "      <td>2</td>\n",
              "      <td>2011-05-26</td>\n",
              "      <td>3</td>\n",
              "      <td>4</td>\n",
              "      <td>1</td>\n",
              "      <td>Caroline</td>\n",
              "      <td>female</td>\n",
              "      <td>2012-10-23</td>\n",
              "      <td>2016-06-07</td>\n",
              "    </tr>\n",
              "    <tr>\n",
              "      <th>1</th>\n",
              "      <td>3</td>\n",
              "      <td>2011-06-16</td>\n",
              "      <td>3</td>\n",
              "      <td>3</td>\n",
              "      <td>1</td>\n",
              "      <td>Caroline</td>\n",
              "      <td>female</td>\n",
              "      <td>2012-10-23</td>\n",
              "      <td>2016-06-07</td>\n",
              "    </tr>\n",
              "    <tr>\n",
              "      <th>2</th>\n",
              "      <td>7</td>\n",
              "      <td>2013-12-30</td>\n",
              "      <td>3</td>\n",
              "      <td>4</td>\n",
              "      <td>1</td>\n",
              "      <td>Caroline</td>\n",
              "      <td>female</td>\n",
              "      <td>2012-10-23</td>\n",
              "      <td>2016-06-07</td>\n",
              "    </tr>\n",
              "    <tr>\n",
              "      <th>3</th>\n",
              "      <td>10</td>\n",
              "      <td>2016-05-08</td>\n",
              "      <td>3</td>\n",
              "      <td>4</td>\n",
              "      <td>4</td>\n",
              "      <td>Caroline</td>\n",
              "      <td>female</td>\n",
              "      <td>2012-10-23</td>\n",
              "      <td>2016-06-07</td>\n",
              "    </tr>\n",
              "    <tr>\n",
              "      <th>4</th>\n",
              "      <td>4</td>\n",
              "      <td>2012-08-26</td>\n",
              "      <td>1</td>\n",
              "      <td>2</td>\n",
              "      <td>3</td>\n",
              "      <td>Charles</td>\n",
              "      <td>male</td>\n",
              "      <td>2012-12-21</td>\n",
              "      <td>NaT</td>\n",
              "    </tr>\n",
              "    <tr>\n",
              "      <th>5</th>\n",
              "      <td>5</td>\n",
              "      <td>2013-06-06</td>\n",
              "      <td>2</td>\n",
              "      <td>4</td>\n",
              "      <td>1</td>\n",
              "      <td>Pedro</td>\n",
              "      <td>male</td>\n",
              "      <td>2010-08-01</td>\n",
              "      <td>2010-08-08</td>\n",
              "    </tr>\n",
              "    <tr>\n",
              "      <th>6</th>\n",
              "      <td>6</td>\n",
              "      <td>2013-12-23</td>\n",
              "      <td>2</td>\n",
              "      <td>5</td>\n",
              "      <td>6</td>\n",
              "      <td>Pedro</td>\n",
              "      <td>male</td>\n",
              "      <td>2010-08-01</td>\n",
              "      <td>2010-08-08</td>\n",
              "    </tr>\n",
              "  </tbody>\n",
              "</table>\n",
              "</div>"
            ],
            "text/plain": [
              "   TransactionID TransactionDate UserID  ProductID  Quantity      User  \\\n",
              "0              2      2011-05-26      3          4         1  Caroline   \n",
              "1              3      2011-06-16      3          3         1  Caroline   \n",
              "2              7      2013-12-30      3          4         1  Caroline   \n",
              "3             10      2016-05-08      3          4         4  Caroline   \n",
              "4              4      2012-08-26      1          2         3   Charles   \n",
              "5              5      2013-06-06      2          4         1     Pedro   \n",
              "6              6      2013-12-23      2          5         6     Pedro   \n",
              "\n",
              "   Gender Registered  Cancelled  \n",
              "0  female 2012-10-23 2016-06-07  \n",
              "1  female 2012-10-23 2016-06-07  \n",
              "2  female 2012-10-23 2016-06-07  \n",
              "3  female 2012-10-23 2016-06-07  \n",
              "4    male 2012-12-21        NaT  \n",
              "5    male 2010-08-01 2010-08-08  \n",
              "6    male 2010-08-01 2010-08-08  "
            ]
          },
          "metadata": {
            "tags": []
          },
          "execution_count": 26
        }
      ]
    },
    {
      "metadata": {
        "id": "WmnIuyOivEbK",
        "colab_type": "text"
      },
      "cell_type": "markdown",
      "source": [
        "**Q15. Join users to transactions, displaying all matching rows AND all non-matching rows (full outer join)**"
      ]
    },
    {
      "metadata": {
        "id": "N2uDwWoZvGSg",
        "colab_type": "code",
        "colab": {
          "autoexec": {
            "startup": false,
            "wait_interval": 0
          },
          "base_uri": "https://localhost:8080/",
          "height": 421
        },
        "outputId": "90211ec9-3d61-4b3f-c5bb-e431117fbdff",
        "executionInfo": {
          "status": "ok",
          "timestamp": 1533030470666,
          "user_tz": -330,
          "elapsed": 915,
          "user": {
            "displayName": "Rajaram Tripathy",
            "photoUrl": "//lh6.googleusercontent.com/-i36HQO2rFzQ/AAAAAAAAAAI/AAAAAAAAAmk/wo74Cfd039M/s50-c-k-no/photo.jpg",
            "userId": "114877031278411201428"
          }
        }
      },
      "cell_type": "code",
      "source": [
        "df_Outter_trans_users = pd.merge(transactions,users,how=\"outer\",on=\"UserID\")\n",
        "df_Outter_trans_users"
      ],
      "execution_count": 27,
      "outputs": [
        {
          "output_type": "execute_result",
          "data": {
            "text/html": [
              "<div>\n",
              "<style scoped>\n",
              "    .dataframe tbody tr th:only-of-type {\n",
              "        vertical-align: middle;\n",
              "    }\n",
              "\n",
              "    .dataframe tbody tr th {\n",
              "        vertical-align: top;\n",
              "    }\n",
              "\n",
              "    .dataframe thead th {\n",
              "        text-align: right;\n",
              "    }\n",
              "</style>\n",
              "<table border=\"1\" class=\"dataframe\">\n",
              "  <thead>\n",
              "    <tr style=\"text-align: right;\">\n",
              "      <th></th>\n",
              "      <th>TransactionID</th>\n",
              "      <th>TransactionDate</th>\n",
              "      <th>UserID</th>\n",
              "      <th>ProductID</th>\n",
              "      <th>Quantity</th>\n",
              "      <th>User</th>\n",
              "      <th>Gender</th>\n",
              "      <th>Registered</th>\n",
              "      <th>Cancelled</th>\n",
              "    </tr>\n",
              "  </thead>\n",
              "  <tbody>\n",
              "    <tr>\n",
              "      <th>0</th>\n",
              "      <td>1.0</td>\n",
              "      <td>2010-08-21</td>\n",
              "      <td>7.0</td>\n",
              "      <td>2.0</td>\n",
              "      <td>1.0</td>\n",
              "      <td>NaN</td>\n",
              "      <td>NaN</td>\n",
              "      <td>NaT</td>\n",
              "      <td>NaT</td>\n",
              "    </tr>\n",
              "    <tr>\n",
              "      <th>1</th>\n",
              "      <td>9.0</td>\n",
              "      <td>2015-04-24</td>\n",
              "      <td>7.0</td>\n",
              "      <td>4.0</td>\n",
              "      <td>3.0</td>\n",
              "      <td>NaN</td>\n",
              "      <td>NaN</td>\n",
              "      <td>NaT</td>\n",
              "      <td>NaT</td>\n",
              "    </tr>\n",
              "    <tr>\n",
              "      <th>2</th>\n",
              "      <td>2.0</td>\n",
              "      <td>2011-05-26</td>\n",
              "      <td>3.0</td>\n",
              "      <td>4.0</td>\n",
              "      <td>1.0</td>\n",
              "      <td>Caroline</td>\n",
              "      <td>female</td>\n",
              "      <td>2012-10-23</td>\n",
              "      <td>2016-06-07</td>\n",
              "    </tr>\n",
              "    <tr>\n",
              "      <th>3</th>\n",
              "      <td>3.0</td>\n",
              "      <td>2011-06-16</td>\n",
              "      <td>3.0</td>\n",
              "      <td>3.0</td>\n",
              "      <td>1.0</td>\n",
              "      <td>Caroline</td>\n",
              "      <td>female</td>\n",
              "      <td>2012-10-23</td>\n",
              "      <td>2016-06-07</td>\n",
              "    </tr>\n",
              "    <tr>\n",
              "      <th>4</th>\n",
              "      <td>7.0</td>\n",
              "      <td>2013-12-30</td>\n",
              "      <td>3.0</td>\n",
              "      <td>4.0</td>\n",
              "      <td>1.0</td>\n",
              "      <td>Caroline</td>\n",
              "      <td>female</td>\n",
              "      <td>2012-10-23</td>\n",
              "      <td>2016-06-07</td>\n",
              "    </tr>\n",
              "    <tr>\n",
              "      <th>5</th>\n",
              "      <td>10.0</td>\n",
              "      <td>2016-05-08</td>\n",
              "      <td>3.0</td>\n",
              "      <td>4.0</td>\n",
              "      <td>4.0</td>\n",
              "      <td>Caroline</td>\n",
              "      <td>female</td>\n",
              "      <td>2012-10-23</td>\n",
              "      <td>2016-06-07</td>\n",
              "    </tr>\n",
              "    <tr>\n",
              "      <th>6</th>\n",
              "      <td>4.0</td>\n",
              "      <td>2012-08-26</td>\n",
              "      <td>1.0</td>\n",
              "      <td>2.0</td>\n",
              "      <td>3.0</td>\n",
              "      <td>Charles</td>\n",
              "      <td>male</td>\n",
              "      <td>2012-12-21</td>\n",
              "      <td>NaT</td>\n",
              "    </tr>\n",
              "    <tr>\n",
              "      <th>7</th>\n",
              "      <td>5.0</td>\n",
              "      <td>2013-06-06</td>\n",
              "      <td>2.0</td>\n",
              "      <td>4.0</td>\n",
              "      <td>1.0</td>\n",
              "      <td>Pedro</td>\n",
              "      <td>male</td>\n",
              "      <td>2010-08-01</td>\n",
              "      <td>2010-08-08</td>\n",
              "    </tr>\n",
              "    <tr>\n",
              "      <th>8</th>\n",
              "      <td>6.0</td>\n",
              "      <td>2013-12-23</td>\n",
              "      <td>2.0</td>\n",
              "      <td>5.0</td>\n",
              "      <td>6.0</td>\n",
              "      <td>Pedro</td>\n",
              "      <td>male</td>\n",
              "      <td>2010-08-01</td>\n",
              "      <td>2010-08-08</td>\n",
              "    </tr>\n",
              "    <tr>\n",
              "      <th>9</th>\n",
              "      <td>8.0</td>\n",
              "      <td>2014-04-24</td>\n",
              "      <td>NaN</td>\n",
              "      <td>2.0</td>\n",
              "      <td>3.0</td>\n",
              "      <td>NaN</td>\n",
              "      <td>NaN</td>\n",
              "      <td>NaT</td>\n",
              "      <td>NaT</td>\n",
              "    </tr>\n",
              "    <tr>\n",
              "      <th>10</th>\n",
              "      <td>NaN</td>\n",
              "      <td>NaT</td>\n",
              "      <td>4.0</td>\n",
              "      <td>NaN</td>\n",
              "      <td>NaN</td>\n",
              "      <td>Brielle</td>\n",
              "      <td>female</td>\n",
              "      <td>2013-07-17</td>\n",
              "      <td>NaT</td>\n",
              "    </tr>\n",
              "    <tr>\n",
              "      <th>11</th>\n",
              "      <td>NaN</td>\n",
              "      <td>NaT</td>\n",
              "      <td>5.0</td>\n",
              "      <td>NaN</td>\n",
              "      <td>NaN</td>\n",
              "      <td>Benjamin</td>\n",
              "      <td>male</td>\n",
              "      <td>2010-11-25</td>\n",
              "      <td>NaT</td>\n",
              "    </tr>\n",
              "  </tbody>\n",
              "</table>\n",
              "</div>"
            ],
            "text/plain": [
              "    TransactionID TransactionDate  UserID  ProductID  Quantity      User  \\\n",
              "0             1.0      2010-08-21     7.0        2.0       1.0       NaN   \n",
              "1             9.0      2015-04-24     7.0        4.0       3.0       NaN   \n",
              "2             2.0      2011-05-26     3.0        4.0       1.0  Caroline   \n",
              "3             3.0      2011-06-16     3.0        3.0       1.0  Caroline   \n",
              "4             7.0      2013-12-30     3.0        4.0       1.0  Caroline   \n",
              "5            10.0      2016-05-08     3.0        4.0       4.0  Caroline   \n",
              "6             4.0      2012-08-26     1.0        2.0       3.0   Charles   \n",
              "7             5.0      2013-06-06     2.0        4.0       1.0     Pedro   \n",
              "8             6.0      2013-12-23     2.0        5.0       6.0     Pedro   \n",
              "9             8.0      2014-04-24     NaN        2.0       3.0       NaN   \n",
              "10            NaN             NaT     4.0        NaN       NaN   Brielle   \n",
              "11            NaN             NaT     5.0        NaN       NaN  Benjamin   \n",
              "\n",
              "    Gender Registered  Cancelled  \n",
              "0      NaN        NaT        NaT  \n",
              "1      NaN        NaT        NaT  \n",
              "2   female 2012-10-23 2016-06-07  \n",
              "3   female 2012-10-23 2016-06-07  \n",
              "4   female 2012-10-23 2016-06-07  \n",
              "5   female 2012-10-23 2016-06-07  \n",
              "6     male 2012-12-21        NaT  \n",
              "7     male 2010-08-01 2010-08-08  \n",
              "8     male 2010-08-01 2010-08-08  \n",
              "9      NaN        NaT        NaT  \n",
              "10  female 2013-07-17        NaT  \n",
              "11    male 2010-11-25        NaT  "
            ]
          },
          "metadata": {
            "tags": []
          },
          "execution_count": 27
        }
      ]
    },
    {
      "metadata": {
        "id": "dOmi8wC2vV53",
        "colab_type": "text"
      },
      "cell_type": "markdown",
      "source": [
        "**Q16. Determine which sessions occurred on the same day each user registered**\n",
        "\n",
        "Solution 1 using Pandas Merge"
      ]
    },
    {
      "metadata": {
        "id": "nLBXFfVdvhcT",
        "colab_type": "code",
        "colab": {
          "autoexec": {
            "startup": false,
            "wait_interval": 0
          },
          "base_uri": "https://localhost:8080/",
          "height": 111
        },
        "outputId": "35b0f196-1115-414c-ff7e-b867e5c47a32",
        "executionInfo": {
          "status": "ok",
          "timestamp": 1533030580951,
          "user_tz": -330,
          "elapsed": 827,
          "user": {
            "displayName": "Rajaram Tripathy",
            "photoUrl": "//lh6.googleusercontent.com/-i36HQO2rFzQ/AAAAAAAAAAI/AAAAAAAAAmk/wo74Cfd039M/s50-c-k-no/photo.jpg",
            "userId": "114877031278411201428"
          }
        }
      },
      "cell_type": "code",
      "source": [
        "#performing an inner join on dataframe users and sessions for all matching Userid and matching Registered and SessionDate\n",
        "pd.merge(left=users,right=sessions,how=\"inner\",left_on=['UserID','Registered'],right_on=['UserID','SessionDate'])"
      ],
      "execution_count": 28,
      "outputs": [
        {
          "output_type": "execute_result",
          "data": {
            "text/html": [
              "<div>\n",
              "<style scoped>\n",
              "    .dataframe tbody tr th:only-of-type {\n",
              "        vertical-align: middle;\n",
              "    }\n",
              "\n",
              "    .dataframe tbody tr th {\n",
              "        vertical-align: top;\n",
              "    }\n",
              "\n",
              "    .dataframe thead th {\n",
              "        text-align: right;\n",
              "    }\n",
              "</style>\n",
              "<table border=\"1\" class=\"dataframe\">\n",
              "  <thead>\n",
              "    <tr style=\"text-align: right;\">\n",
              "      <th></th>\n",
              "      <th>UserID</th>\n",
              "      <th>User</th>\n",
              "      <th>Gender</th>\n",
              "      <th>Registered</th>\n",
              "      <th>Cancelled</th>\n",
              "      <th>SessionID</th>\n",
              "      <th>SessionDate</th>\n",
              "    </tr>\n",
              "  </thead>\n",
              "  <tbody>\n",
              "    <tr>\n",
              "      <th>0</th>\n",
              "      <td>2</td>\n",
              "      <td>Pedro</td>\n",
              "      <td>male</td>\n",
              "      <td>2010-08-01</td>\n",
              "      <td>2010-08-08</td>\n",
              "      <td>2</td>\n",
              "      <td>2010-08-01</td>\n",
              "    </tr>\n",
              "    <tr>\n",
              "      <th>1</th>\n",
              "      <td>4</td>\n",
              "      <td>Brielle</td>\n",
              "      <td>female</td>\n",
              "      <td>2013-07-17</td>\n",
              "      <td>NaT</td>\n",
              "      <td>9</td>\n",
              "      <td>2013-07-17</td>\n",
              "    </tr>\n",
              "  </tbody>\n",
              "</table>\n",
              "</div>"
            ],
            "text/plain": [
              "   UserID     User  Gender Registered  Cancelled  SessionID SessionDate\n",
              "0       2    Pedro    male 2010-08-01 2010-08-08          2  2010-08-01\n",
              "1       4  Brielle  female 2013-07-17        NaT          9  2013-07-17"
            ]
          },
          "metadata": {
            "tags": []
          },
          "execution_count": 28
        }
      ]
    },
    {
      "metadata": {
        "id": "oKwNhJjNvntz",
        "colab_type": "text"
      },
      "cell_type": "markdown",
      "source": [
        "Solution 2 :- Breaking into individual steps\n",
        "\n",
        "1.Using Pandas Merge(inner join) on table users and sessions with join on the UserID key\n",
        "\n",
        "2.Filter row having matching Registered and SessionDate columns"
      ]
    },
    {
      "metadata": {
        "id": "5_AByPAbvpS0",
        "colab_type": "code",
        "colab": {
          "autoexec": {
            "startup": false,
            "wait_interval": 0
          },
          "base_uri": "https://localhost:8080/",
          "height": 111
        },
        "outputId": "4fc72ba9-f157-4ecb-b166-19d519f4eb43",
        "executionInfo": {
          "status": "ok",
          "timestamp": 1533030612389,
          "user_tz": -330,
          "elapsed": 822,
          "user": {
            "displayName": "Rajaram Tripathy",
            "photoUrl": "//lh6.googleusercontent.com/-i36HQO2rFzQ/AAAAAAAAAAI/AAAAAAAAAmk/wo74Cfd039M/s50-c-k-no/photo.jpg",
            "userId": "114877031278411201428"
          }
        }
      },
      "cell_type": "code",
      "source": [
        "#creating a dataframe df_inner_users_sess by \n",
        "df_inner_users_sess = pd.merge(users,sessions,how='left',on='UserID')\n",
        "#df_inner_users_sess\n",
        "#filtering out rows from dataframe df_inner_users_sess having the same Registered Date and SessionDate \n",
        "df_inner_users_sess[df_inner_users_sess['Registered']== df_inner_users_sess['SessionDate'] ].reset_index().drop('index',axis=1)"
      ],
      "execution_count": 29,
      "outputs": [
        {
          "output_type": "execute_result",
          "data": {
            "text/html": [
              "<div>\n",
              "<style scoped>\n",
              "    .dataframe tbody tr th:only-of-type {\n",
              "        vertical-align: middle;\n",
              "    }\n",
              "\n",
              "    .dataframe tbody tr th {\n",
              "        vertical-align: top;\n",
              "    }\n",
              "\n",
              "    .dataframe thead th {\n",
              "        text-align: right;\n",
              "    }\n",
              "</style>\n",
              "<table border=\"1\" class=\"dataframe\">\n",
              "  <thead>\n",
              "    <tr style=\"text-align: right;\">\n",
              "      <th></th>\n",
              "      <th>UserID</th>\n",
              "      <th>User</th>\n",
              "      <th>Gender</th>\n",
              "      <th>Registered</th>\n",
              "      <th>Cancelled</th>\n",
              "      <th>SessionID</th>\n",
              "      <th>SessionDate</th>\n",
              "    </tr>\n",
              "  </thead>\n",
              "  <tbody>\n",
              "    <tr>\n",
              "      <th>0</th>\n",
              "      <td>2</td>\n",
              "      <td>Pedro</td>\n",
              "      <td>male</td>\n",
              "      <td>2010-08-01</td>\n",
              "      <td>2010-08-08</td>\n",
              "      <td>2.0</td>\n",
              "      <td>2010-08-01</td>\n",
              "    </tr>\n",
              "    <tr>\n",
              "      <th>1</th>\n",
              "      <td>4</td>\n",
              "      <td>Brielle</td>\n",
              "      <td>female</td>\n",
              "      <td>2013-07-17</td>\n",
              "      <td>NaT</td>\n",
              "      <td>9.0</td>\n",
              "      <td>2013-07-17</td>\n",
              "    </tr>\n",
              "  </tbody>\n",
              "</table>\n",
              "</div>"
            ],
            "text/plain": [
              "   UserID     User  Gender Registered  Cancelled  SessionID SessionDate\n",
              "0       2    Pedro    male 2010-08-01 2010-08-08        2.0  2010-08-01\n",
              "1       4  Brielle  female 2013-07-17        NaT        9.0  2013-07-17"
            ]
          },
          "metadata": {
            "tags": []
          },
          "execution_count": 29
        }
      ]
    },
    {
      "metadata": {
        "id": "yikp3wjxvvXP",
        "colab_type": "text"
      },
      "cell_type": "markdown",
      "source": [
        "\n",
        "**Q17. Build a dataset with every possible (UserID, ProductID) pair (cross join)**"
      ]
    },
    {
      "metadata": {
        "id": "6mNk8p-1vxqi",
        "colab_type": "code",
        "colab": {
          "autoexec": {
            "startup": false,
            "wait_interval": 0
          }
        }
      },
      "cell_type": "code",
      "source": [
        "#create two different dataframes with unique UserID and ProductID from users and transactions dataframe respectively.\n",
        "df_userid = pd.DataFrame({\"UserID\":users[\"UserID\"]})\n",
        "df_Tran = pd.DataFrame({\"ProductID\":products[\"ProductID\"]})\n",
        "#create new column Key with value as 1 for both the dataframe as this would become the common key to be merged\n",
        "df_userid['Key'] = 1\n",
        "df_Tran['Key'] = 1"
      ],
      "execution_count": 0,
      "outputs": []
    },
    {
      "metadata": {
        "id": "OMEGa_U3v_R-",
        "colab_type": "code",
        "colab": {
          "autoexec": {
            "startup": false,
            "wait_interval": 0
          }
        }
      },
      "cell_type": "code",
      "source": [
        "#do a outer join on df_userid and df_Tran dataframe\n",
        "df_out = pd.merge(df_userid,df_Tran,how='outer',on=\"Key\")[['UserID','ProductID']]"
      ],
      "execution_count": 0,
      "outputs": []
    },
    {
      "metadata": {
        "id": "CXQUHCKWwDGb",
        "colab_type": "code",
        "colab": {
          "autoexec": {
            "startup": false,
            "wait_interval": 0
          },
          "base_uri": "https://localhost:8080/",
          "height": 824
        },
        "outputId": "aa2e332a-02aa-49b2-adc7-c0c81d922a13",
        "executionInfo": {
          "status": "ok",
          "timestamp": 1533030712148,
          "user_tz": -330,
          "elapsed": 816,
          "user": {
            "displayName": "Rajaram Tripathy",
            "photoUrl": "//lh6.googleusercontent.com/-i36HQO2rFzQ/AAAAAAAAAAI/AAAAAAAAAmk/wo74Cfd039M/s50-c-k-no/photo.jpg",
            "userId": "114877031278411201428"
          }
        }
      },
      "cell_type": "code",
      "source": [
        "#final dataframe df_out which has every possible(UserID,ProductID) combination\n",
        "df_out"
      ],
      "execution_count": 32,
      "outputs": [
        {
          "output_type": "execute_result",
          "data": {
            "text/html": [
              "<div>\n",
              "<style scoped>\n",
              "    .dataframe tbody tr th:only-of-type {\n",
              "        vertical-align: middle;\n",
              "    }\n",
              "\n",
              "    .dataframe tbody tr th {\n",
              "        vertical-align: top;\n",
              "    }\n",
              "\n",
              "    .dataframe thead th {\n",
              "        text-align: right;\n",
              "    }\n",
              "</style>\n",
              "<table border=\"1\" class=\"dataframe\">\n",
              "  <thead>\n",
              "    <tr style=\"text-align: right;\">\n",
              "      <th></th>\n",
              "      <th>UserID</th>\n",
              "      <th>ProductID</th>\n",
              "    </tr>\n",
              "  </thead>\n",
              "  <tbody>\n",
              "    <tr>\n",
              "      <th>0</th>\n",
              "      <td>1</td>\n",
              "      <td>1</td>\n",
              "    </tr>\n",
              "    <tr>\n",
              "      <th>1</th>\n",
              "      <td>1</td>\n",
              "      <td>2</td>\n",
              "    </tr>\n",
              "    <tr>\n",
              "      <th>2</th>\n",
              "      <td>1</td>\n",
              "      <td>3</td>\n",
              "    </tr>\n",
              "    <tr>\n",
              "      <th>3</th>\n",
              "      <td>1</td>\n",
              "      <td>4</td>\n",
              "    </tr>\n",
              "    <tr>\n",
              "      <th>4</th>\n",
              "      <td>1</td>\n",
              "      <td>5</td>\n",
              "    </tr>\n",
              "    <tr>\n",
              "      <th>5</th>\n",
              "      <td>2</td>\n",
              "      <td>1</td>\n",
              "    </tr>\n",
              "    <tr>\n",
              "      <th>6</th>\n",
              "      <td>2</td>\n",
              "      <td>2</td>\n",
              "    </tr>\n",
              "    <tr>\n",
              "      <th>7</th>\n",
              "      <td>2</td>\n",
              "      <td>3</td>\n",
              "    </tr>\n",
              "    <tr>\n",
              "      <th>8</th>\n",
              "      <td>2</td>\n",
              "      <td>4</td>\n",
              "    </tr>\n",
              "    <tr>\n",
              "      <th>9</th>\n",
              "      <td>2</td>\n",
              "      <td>5</td>\n",
              "    </tr>\n",
              "    <tr>\n",
              "      <th>10</th>\n",
              "      <td>3</td>\n",
              "      <td>1</td>\n",
              "    </tr>\n",
              "    <tr>\n",
              "      <th>11</th>\n",
              "      <td>3</td>\n",
              "      <td>2</td>\n",
              "    </tr>\n",
              "    <tr>\n",
              "      <th>12</th>\n",
              "      <td>3</td>\n",
              "      <td>3</td>\n",
              "    </tr>\n",
              "    <tr>\n",
              "      <th>13</th>\n",
              "      <td>3</td>\n",
              "      <td>4</td>\n",
              "    </tr>\n",
              "    <tr>\n",
              "      <th>14</th>\n",
              "      <td>3</td>\n",
              "      <td>5</td>\n",
              "    </tr>\n",
              "    <tr>\n",
              "      <th>15</th>\n",
              "      <td>4</td>\n",
              "      <td>1</td>\n",
              "    </tr>\n",
              "    <tr>\n",
              "      <th>16</th>\n",
              "      <td>4</td>\n",
              "      <td>2</td>\n",
              "    </tr>\n",
              "    <tr>\n",
              "      <th>17</th>\n",
              "      <td>4</td>\n",
              "      <td>3</td>\n",
              "    </tr>\n",
              "    <tr>\n",
              "      <th>18</th>\n",
              "      <td>4</td>\n",
              "      <td>4</td>\n",
              "    </tr>\n",
              "    <tr>\n",
              "      <th>19</th>\n",
              "      <td>4</td>\n",
              "      <td>5</td>\n",
              "    </tr>\n",
              "    <tr>\n",
              "      <th>20</th>\n",
              "      <td>5</td>\n",
              "      <td>1</td>\n",
              "    </tr>\n",
              "    <tr>\n",
              "      <th>21</th>\n",
              "      <td>5</td>\n",
              "      <td>2</td>\n",
              "    </tr>\n",
              "    <tr>\n",
              "      <th>22</th>\n",
              "      <td>5</td>\n",
              "      <td>3</td>\n",
              "    </tr>\n",
              "    <tr>\n",
              "      <th>23</th>\n",
              "      <td>5</td>\n",
              "      <td>4</td>\n",
              "    </tr>\n",
              "    <tr>\n",
              "      <th>24</th>\n",
              "      <td>5</td>\n",
              "      <td>5</td>\n",
              "    </tr>\n",
              "  </tbody>\n",
              "</table>\n",
              "</div>"
            ],
            "text/plain": [
              "    UserID  ProductID\n",
              "0        1          1\n",
              "1        1          2\n",
              "2        1          3\n",
              "3        1          4\n",
              "4        1          5\n",
              "5        2          1\n",
              "6        2          2\n",
              "7        2          3\n",
              "8        2          4\n",
              "9        2          5\n",
              "10       3          1\n",
              "11       3          2\n",
              "12       3          3\n",
              "13       3          4\n",
              "14       3          5\n",
              "15       4          1\n",
              "16       4          2\n",
              "17       4          3\n",
              "18       4          4\n",
              "19       4          5\n",
              "20       5          1\n",
              "21       5          2\n",
              "22       5          3\n",
              "23       5          4\n",
              "24       5          5"
            ]
          },
          "metadata": {
            "tags": []
          },
          "execution_count": 32
        }
      ]
    },
    {
      "metadata": {
        "id": "tLRxB7zlwHXC",
        "colab_type": "text"
      },
      "cell_type": "markdown",
      "source": [
        "\n",
        "**Q18. Determine how much quantity of each product was purchased by each user**"
      ]
    },
    {
      "metadata": {
        "id": "lBKh06lUwJnm",
        "colab_type": "code",
        "colab": {
          "autoexec": {
            "startup": false,
            "wait_interval": 0
          },
          "base_uri": "https://localhost:8080/",
          "height": 824
        },
        "outputId": "b638eb2f-19fb-4ce8-998e-dcbd03042baf",
        "executionInfo": {
          "status": "ok",
          "timestamp": 1533030744611,
          "user_tz": -330,
          "elapsed": 819,
          "user": {
            "displayName": "Rajaram Tripathy",
            "photoUrl": "//lh6.googleusercontent.com/-i36HQO2rFzQ/AAAAAAAAAAI/AAAAAAAAAmk/wo74Cfd039M/s50-c-k-no/photo.jpg",
            "userId": "114877031278411201428"
          }
        }
      },
      "cell_type": "code",
      "source": [
        "#do a left join on the output table df_out from previous step with transactions table on the keys ['UserID','ProductID]\n",
        "df_user_prod_quant = pd.merge(df_out,transactions,how='left',on=['UserID','ProductID'])\n",
        "\n",
        "#Groupby the table on ['UserID','ProductID] and calculate the sum of Qunatity entity for each group\n",
        "df_user_quantity = df_user_prod_quant.groupby(['UserID','ProductID'])['Quantity'].sum()\n",
        "\n",
        "#reset index so that the index column will have consecutive default numbers and fill NAN values with 0\n",
        "df_user_quantity.reset_index().fillna(0)"
      ],
      "execution_count": 33,
      "outputs": [
        {
          "output_type": "execute_result",
          "data": {
            "text/html": [
              "<div>\n",
              "<style scoped>\n",
              "    .dataframe tbody tr th:only-of-type {\n",
              "        vertical-align: middle;\n",
              "    }\n",
              "\n",
              "    .dataframe tbody tr th {\n",
              "        vertical-align: top;\n",
              "    }\n",
              "\n",
              "    .dataframe thead th {\n",
              "        text-align: right;\n",
              "    }\n",
              "</style>\n",
              "<table border=\"1\" class=\"dataframe\">\n",
              "  <thead>\n",
              "    <tr style=\"text-align: right;\">\n",
              "      <th></th>\n",
              "      <th>UserID</th>\n",
              "      <th>ProductID</th>\n",
              "      <th>Quantity</th>\n",
              "    </tr>\n",
              "  </thead>\n",
              "  <tbody>\n",
              "    <tr>\n",
              "      <th>0</th>\n",
              "      <td>1</td>\n",
              "      <td>1</td>\n",
              "      <td>0.0</td>\n",
              "    </tr>\n",
              "    <tr>\n",
              "      <th>1</th>\n",
              "      <td>1</td>\n",
              "      <td>2</td>\n",
              "      <td>3.0</td>\n",
              "    </tr>\n",
              "    <tr>\n",
              "      <th>2</th>\n",
              "      <td>1</td>\n",
              "      <td>3</td>\n",
              "      <td>0.0</td>\n",
              "    </tr>\n",
              "    <tr>\n",
              "      <th>3</th>\n",
              "      <td>1</td>\n",
              "      <td>4</td>\n",
              "      <td>0.0</td>\n",
              "    </tr>\n",
              "    <tr>\n",
              "      <th>4</th>\n",
              "      <td>1</td>\n",
              "      <td>5</td>\n",
              "      <td>0.0</td>\n",
              "    </tr>\n",
              "    <tr>\n",
              "      <th>5</th>\n",
              "      <td>2</td>\n",
              "      <td>1</td>\n",
              "      <td>0.0</td>\n",
              "    </tr>\n",
              "    <tr>\n",
              "      <th>6</th>\n",
              "      <td>2</td>\n",
              "      <td>2</td>\n",
              "      <td>0.0</td>\n",
              "    </tr>\n",
              "    <tr>\n",
              "      <th>7</th>\n",
              "      <td>2</td>\n",
              "      <td>3</td>\n",
              "      <td>0.0</td>\n",
              "    </tr>\n",
              "    <tr>\n",
              "      <th>8</th>\n",
              "      <td>2</td>\n",
              "      <td>4</td>\n",
              "      <td>1.0</td>\n",
              "    </tr>\n",
              "    <tr>\n",
              "      <th>9</th>\n",
              "      <td>2</td>\n",
              "      <td>5</td>\n",
              "      <td>6.0</td>\n",
              "    </tr>\n",
              "    <tr>\n",
              "      <th>10</th>\n",
              "      <td>3</td>\n",
              "      <td>1</td>\n",
              "      <td>0.0</td>\n",
              "    </tr>\n",
              "    <tr>\n",
              "      <th>11</th>\n",
              "      <td>3</td>\n",
              "      <td>2</td>\n",
              "      <td>0.0</td>\n",
              "    </tr>\n",
              "    <tr>\n",
              "      <th>12</th>\n",
              "      <td>3</td>\n",
              "      <td>3</td>\n",
              "      <td>1.0</td>\n",
              "    </tr>\n",
              "    <tr>\n",
              "      <th>13</th>\n",
              "      <td>3</td>\n",
              "      <td>4</td>\n",
              "      <td>6.0</td>\n",
              "    </tr>\n",
              "    <tr>\n",
              "      <th>14</th>\n",
              "      <td>3</td>\n",
              "      <td>5</td>\n",
              "      <td>0.0</td>\n",
              "    </tr>\n",
              "    <tr>\n",
              "      <th>15</th>\n",
              "      <td>4</td>\n",
              "      <td>1</td>\n",
              "      <td>0.0</td>\n",
              "    </tr>\n",
              "    <tr>\n",
              "      <th>16</th>\n",
              "      <td>4</td>\n",
              "      <td>2</td>\n",
              "      <td>0.0</td>\n",
              "    </tr>\n",
              "    <tr>\n",
              "      <th>17</th>\n",
              "      <td>4</td>\n",
              "      <td>3</td>\n",
              "      <td>0.0</td>\n",
              "    </tr>\n",
              "    <tr>\n",
              "      <th>18</th>\n",
              "      <td>4</td>\n",
              "      <td>4</td>\n",
              "      <td>0.0</td>\n",
              "    </tr>\n",
              "    <tr>\n",
              "      <th>19</th>\n",
              "      <td>4</td>\n",
              "      <td>5</td>\n",
              "      <td>0.0</td>\n",
              "    </tr>\n",
              "    <tr>\n",
              "      <th>20</th>\n",
              "      <td>5</td>\n",
              "      <td>1</td>\n",
              "      <td>0.0</td>\n",
              "    </tr>\n",
              "    <tr>\n",
              "      <th>21</th>\n",
              "      <td>5</td>\n",
              "      <td>2</td>\n",
              "      <td>0.0</td>\n",
              "    </tr>\n",
              "    <tr>\n",
              "      <th>22</th>\n",
              "      <td>5</td>\n",
              "      <td>3</td>\n",
              "      <td>0.0</td>\n",
              "    </tr>\n",
              "    <tr>\n",
              "      <th>23</th>\n",
              "      <td>5</td>\n",
              "      <td>4</td>\n",
              "      <td>0.0</td>\n",
              "    </tr>\n",
              "    <tr>\n",
              "      <th>24</th>\n",
              "      <td>5</td>\n",
              "      <td>5</td>\n",
              "      <td>0.0</td>\n",
              "    </tr>\n",
              "  </tbody>\n",
              "</table>\n",
              "</div>"
            ],
            "text/plain": [
              "    UserID  ProductID  Quantity\n",
              "0        1          1       0.0\n",
              "1        1          2       3.0\n",
              "2        1          3       0.0\n",
              "3        1          4       0.0\n",
              "4        1          5       0.0\n",
              "5        2          1       0.0\n",
              "6        2          2       0.0\n",
              "7        2          3       0.0\n",
              "8        2          4       1.0\n",
              "9        2          5       6.0\n",
              "10       3          1       0.0\n",
              "11       3          2       0.0\n",
              "12       3          3       1.0\n",
              "13       3          4       6.0\n",
              "14       3          5       0.0\n",
              "15       4          1       0.0\n",
              "16       4          2       0.0\n",
              "17       4          3       0.0\n",
              "18       4          4       0.0\n",
              "19       4          5       0.0\n",
              "20       5          1       0.0\n",
              "21       5          2       0.0\n",
              "22       5          3       0.0\n",
              "23       5          4       0.0\n",
              "24       5          5       0.0"
            ]
          },
          "metadata": {
            "tags": []
          },
          "execution_count": 33
        }
      ]
    },
    {
      "metadata": {
        "id": "_tUggwT7wO2O",
        "colab_type": "text"
      },
      "cell_type": "markdown",
      "source": [
        "\n",
        "**Q19. For each user, get each possible pair of pair transactions (TransactionID1,TransacationID2)**"
      ]
    },
    {
      "metadata": {
        "id": "rPdm7DvHwROx",
        "colab_type": "code",
        "colab": {
          "autoexec": {
            "startup": false,
            "wait_interval": 0
          },
          "base_uri": "https://localhost:8080/",
          "height": 855
        },
        "outputId": "07b0c417-b75b-4049-8382-586c3027301a",
        "executionInfo": {
          "status": "ok",
          "timestamp": 1533030776674,
          "user_tz": -330,
          "elapsed": 826,
          "user": {
            "displayName": "Rajaram Tripathy",
            "photoUrl": "//lh6.googleusercontent.com/-i36HQO2rFzQ/AAAAAAAAAAI/AAAAAAAAAmk/wo74Cfd039M/s50-c-k-no/photo.jpg",
            "userId": "114877031278411201428"
          }
        }
      },
      "cell_type": "code",
      "source": [
        "#merge transactions dataframe performing a outer join to derive all possible pair of transactions\n",
        "pd.merge(transactions,transactions,how='outer',on='UserID')"
      ],
      "execution_count": 34,
      "outputs": [
        {
          "output_type": "execute_result",
          "data": {
            "text/html": [
              "<div>\n",
              "<style scoped>\n",
              "    .dataframe tbody tr th:only-of-type {\n",
              "        vertical-align: middle;\n",
              "    }\n",
              "\n",
              "    .dataframe tbody tr th {\n",
              "        vertical-align: top;\n",
              "    }\n",
              "\n",
              "    .dataframe thead th {\n",
              "        text-align: right;\n",
              "    }\n",
              "</style>\n",
              "<table border=\"1\" class=\"dataframe\">\n",
              "  <thead>\n",
              "    <tr style=\"text-align: right;\">\n",
              "      <th></th>\n",
              "      <th>TransactionID_x</th>\n",
              "      <th>TransactionDate_x</th>\n",
              "      <th>UserID</th>\n",
              "      <th>ProductID_x</th>\n",
              "      <th>Quantity_x</th>\n",
              "      <th>TransactionID_y</th>\n",
              "      <th>TransactionDate_y</th>\n",
              "      <th>ProductID_y</th>\n",
              "      <th>Quantity_y</th>\n",
              "    </tr>\n",
              "  </thead>\n",
              "  <tbody>\n",
              "    <tr>\n",
              "      <th>0</th>\n",
              "      <td>1</td>\n",
              "      <td>2010-08-21</td>\n",
              "      <td>7.0</td>\n",
              "      <td>2</td>\n",
              "      <td>1</td>\n",
              "      <td>1</td>\n",
              "      <td>2010-08-21</td>\n",
              "      <td>2</td>\n",
              "      <td>1</td>\n",
              "    </tr>\n",
              "    <tr>\n",
              "      <th>1</th>\n",
              "      <td>1</td>\n",
              "      <td>2010-08-21</td>\n",
              "      <td>7.0</td>\n",
              "      <td>2</td>\n",
              "      <td>1</td>\n",
              "      <td>9</td>\n",
              "      <td>2015-04-24</td>\n",
              "      <td>4</td>\n",
              "      <td>3</td>\n",
              "    </tr>\n",
              "    <tr>\n",
              "      <th>2</th>\n",
              "      <td>9</td>\n",
              "      <td>2015-04-24</td>\n",
              "      <td>7.0</td>\n",
              "      <td>4</td>\n",
              "      <td>3</td>\n",
              "      <td>1</td>\n",
              "      <td>2010-08-21</td>\n",
              "      <td>2</td>\n",
              "      <td>1</td>\n",
              "    </tr>\n",
              "    <tr>\n",
              "      <th>3</th>\n",
              "      <td>9</td>\n",
              "      <td>2015-04-24</td>\n",
              "      <td>7.0</td>\n",
              "      <td>4</td>\n",
              "      <td>3</td>\n",
              "      <td>9</td>\n",
              "      <td>2015-04-24</td>\n",
              "      <td>4</td>\n",
              "      <td>3</td>\n",
              "    </tr>\n",
              "    <tr>\n",
              "      <th>4</th>\n",
              "      <td>2</td>\n",
              "      <td>2011-05-26</td>\n",
              "      <td>3.0</td>\n",
              "      <td>4</td>\n",
              "      <td>1</td>\n",
              "      <td>2</td>\n",
              "      <td>2011-05-26</td>\n",
              "      <td>4</td>\n",
              "      <td>1</td>\n",
              "    </tr>\n",
              "    <tr>\n",
              "      <th>5</th>\n",
              "      <td>2</td>\n",
              "      <td>2011-05-26</td>\n",
              "      <td>3.0</td>\n",
              "      <td>4</td>\n",
              "      <td>1</td>\n",
              "      <td>3</td>\n",
              "      <td>2011-06-16</td>\n",
              "      <td>3</td>\n",
              "      <td>1</td>\n",
              "    </tr>\n",
              "    <tr>\n",
              "      <th>6</th>\n",
              "      <td>2</td>\n",
              "      <td>2011-05-26</td>\n",
              "      <td>3.0</td>\n",
              "      <td>4</td>\n",
              "      <td>1</td>\n",
              "      <td>7</td>\n",
              "      <td>2013-12-30</td>\n",
              "      <td>4</td>\n",
              "      <td>1</td>\n",
              "    </tr>\n",
              "    <tr>\n",
              "      <th>7</th>\n",
              "      <td>2</td>\n",
              "      <td>2011-05-26</td>\n",
              "      <td>3.0</td>\n",
              "      <td>4</td>\n",
              "      <td>1</td>\n",
              "      <td>10</td>\n",
              "      <td>2016-05-08</td>\n",
              "      <td>4</td>\n",
              "      <td>4</td>\n",
              "    </tr>\n",
              "    <tr>\n",
              "      <th>8</th>\n",
              "      <td>3</td>\n",
              "      <td>2011-06-16</td>\n",
              "      <td>3.0</td>\n",
              "      <td>3</td>\n",
              "      <td>1</td>\n",
              "      <td>2</td>\n",
              "      <td>2011-05-26</td>\n",
              "      <td>4</td>\n",
              "      <td>1</td>\n",
              "    </tr>\n",
              "    <tr>\n",
              "      <th>9</th>\n",
              "      <td>3</td>\n",
              "      <td>2011-06-16</td>\n",
              "      <td>3.0</td>\n",
              "      <td>3</td>\n",
              "      <td>1</td>\n",
              "      <td>3</td>\n",
              "      <td>2011-06-16</td>\n",
              "      <td>3</td>\n",
              "      <td>1</td>\n",
              "    </tr>\n",
              "    <tr>\n",
              "      <th>10</th>\n",
              "      <td>3</td>\n",
              "      <td>2011-06-16</td>\n",
              "      <td>3.0</td>\n",
              "      <td>3</td>\n",
              "      <td>1</td>\n",
              "      <td>7</td>\n",
              "      <td>2013-12-30</td>\n",
              "      <td>4</td>\n",
              "      <td>1</td>\n",
              "    </tr>\n",
              "    <tr>\n",
              "      <th>11</th>\n",
              "      <td>3</td>\n",
              "      <td>2011-06-16</td>\n",
              "      <td>3.0</td>\n",
              "      <td>3</td>\n",
              "      <td>1</td>\n",
              "      <td>10</td>\n",
              "      <td>2016-05-08</td>\n",
              "      <td>4</td>\n",
              "      <td>4</td>\n",
              "    </tr>\n",
              "    <tr>\n",
              "      <th>12</th>\n",
              "      <td>7</td>\n",
              "      <td>2013-12-30</td>\n",
              "      <td>3.0</td>\n",
              "      <td>4</td>\n",
              "      <td>1</td>\n",
              "      <td>2</td>\n",
              "      <td>2011-05-26</td>\n",
              "      <td>4</td>\n",
              "      <td>1</td>\n",
              "    </tr>\n",
              "    <tr>\n",
              "      <th>13</th>\n",
              "      <td>7</td>\n",
              "      <td>2013-12-30</td>\n",
              "      <td>3.0</td>\n",
              "      <td>4</td>\n",
              "      <td>1</td>\n",
              "      <td>3</td>\n",
              "      <td>2011-06-16</td>\n",
              "      <td>3</td>\n",
              "      <td>1</td>\n",
              "    </tr>\n",
              "    <tr>\n",
              "      <th>14</th>\n",
              "      <td>7</td>\n",
              "      <td>2013-12-30</td>\n",
              "      <td>3.0</td>\n",
              "      <td>4</td>\n",
              "      <td>1</td>\n",
              "      <td>7</td>\n",
              "      <td>2013-12-30</td>\n",
              "      <td>4</td>\n",
              "      <td>1</td>\n",
              "    </tr>\n",
              "    <tr>\n",
              "      <th>15</th>\n",
              "      <td>7</td>\n",
              "      <td>2013-12-30</td>\n",
              "      <td>3.0</td>\n",
              "      <td>4</td>\n",
              "      <td>1</td>\n",
              "      <td>10</td>\n",
              "      <td>2016-05-08</td>\n",
              "      <td>4</td>\n",
              "      <td>4</td>\n",
              "    </tr>\n",
              "    <tr>\n",
              "      <th>16</th>\n",
              "      <td>10</td>\n",
              "      <td>2016-05-08</td>\n",
              "      <td>3.0</td>\n",
              "      <td>4</td>\n",
              "      <td>4</td>\n",
              "      <td>2</td>\n",
              "      <td>2011-05-26</td>\n",
              "      <td>4</td>\n",
              "      <td>1</td>\n",
              "    </tr>\n",
              "    <tr>\n",
              "      <th>17</th>\n",
              "      <td>10</td>\n",
              "      <td>2016-05-08</td>\n",
              "      <td>3.0</td>\n",
              "      <td>4</td>\n",
              "      <td>4</td>\n",
              "      <td>3</td>\n",
              "      <td>2011-06-16</td>\n",
              "      <td>3</td>\n",
              "      <td>1</td>\n",
              "    </tr>\n",
              "    <tr>\n",
              "      <th>18</th>\n",
              "      <td>10</td>\n",
              "      <td>2016-05-08</td>\n",
              "      <td>3.0</td>\n",
              "      <td>4</td>\n",
              "      <td>4</td>\n",
              "      <td>7</td>\n",
              "      <td>2013-12-30</td>\n",
              "      <td>4</td>\n",
              "      <td>1</td>\n",
              "    </tr>\n",
              "    <tr>\n",
              "      <th>19</th>\n",
              "      <td>10</td>\n",
              "      <td>2016-05-08</td>\n",
              "      <td>3.0</td>\n",
              "      <td>4</td>\n",
              "      <td>4</td>\n",
              "      <td>10</td>\n",
              "      <td>2016-05-08</td>\n",
              "      <td>4</td>\n",
              "      <td>4</td>\n",
              "    </tr>\n",
              "    <tr>\n",
              "      <th>20</th>\n",
              "      <td>4</td>\n",
              "      <td>2012-08-26</td>\n",
              "      <td>1.0</td>\n",
              "      <td>2</td>\n",
              "      <td>3</td>\n",
              "      <td>4</td>\n",
              "      <td>2012-08-26</td>\n",
              "      <td>2</td>\n",
              "      <td>3</td>\n",
              "    </tr>\n",
              "    <tr>\n",
              "      <th>21</th>\n",
              "      <td>5</td>\n",
              "      <td>2013-06-06</td>\n",
              "      <td>2.0</td>\n",
              "      <td>4</td>\n",
              "      <td>1</td>\n",
              "      <td>5</td>\n",
              "      <td>2013-06-06</td>\n",
              "      <td>4</td>\n",
              "      <td>1</td>\n",
              "    </tr>\n",
              "    <tr>\n",
              "      <th>22</th>\n",
              "      <td>5</td>\n",
              "      <td>2013-06-06</td>\n",
              "      <td>2.0</td>\n",
              "      <td>4</td>\n",
              "      <td>1</td>\n",
              "      <td>6</td>\n",
              "      <td>2013-12-23</td>\n",
              "      <td>5</td>\n",
              "      <td>6</td>\n",
              "    </tr>\n",
              "    <tr>\n",
              "      <th>23</th>\n",
              "      <td>6</td>\n",
              "      <td>2013-12-23</td>\n",
              "      <td>2.0</td>\n",
              "      <td>5</td>\n",
              "      <td>6</td>\n",
              "      <td>5</td>\n",
              "      <td>2013-06-06</td>\n",
              "      <td>4</td>\n",
              "      <td>1</td>\n",
              "    </tr>\n",
              "    <tr>\n",
              "      <th>24</th>\n",
              "      <td>6</td>\n",
              "      <td>2013-12-23</td>\n",
              "      <td>2.0</td>\n",
              "      <td>5</td>\n",
              "      <td>6</td>\n",
              "      <td>6</td>\n",
              "      <td>2013-12-23</td>\n",
              "      <td>5</td>\n",
              "      <td>6</td>\n",
              "    </tr>\n",
              "    <tr>\n",
              "      <th>25</th>\n",
              "      <td>8</td>\n",
              "      <td>2014-04-24</td>\n",
              "      <td>NaN</td>\n",
              "      <td>2</td>\n",
              "      <td>3</td>\n",
              "      <td>8</td>\n",
              "      <td>2014-04-24</td>\n",
              "      <td>2</td>\n",
              "      <td>3</td>\n",
              "    </tr>\n",
              "  </tbody>\n",
              "</table>\n",
              "</div>"
            ],
            "text/plain": [
              "    TransactionID_x TransactionDate_x  UserID  ProductID_x  Quantity_x  \\\n",
              "0                 1        2010-08-21     7.0            2           1   \n",
              "1                 1        2010-08-21     7.0            2           1   \n",
              "2                 9        2015-04-24     7.0            4           3   \n",
              "3                 9        2015-04-24     7.0            4           3   \n",
              "4                 2        2011-05-26     3.0            4           1   \n",
              "5                 2        2011-05-26     3.0            4           1   \n",
              "6                 2        2011-05-26     3.0            4           1   \n",
              "7                 2        2011-05-26     3.0            4           1   \n",
              "8                 3        2011-06-16     3.0            3           1   \n",
              "9                 3        2011-06-16     3.0            3           1   \n",
              "10                3        2011-06-16     3.0            3           1   \n",
              "11                3        2011-06-16     3.0            3           1   \n",
              "12                7        2013-12-30     3.0            4           1   \n",
              "13                7        2013-12-30     3.0            4           1   \n",
              "14                7        2013-12-30     3.0            4           1   \n",
              "15                7        2013-12-30     3.0            4           1   \n",
              "16               10        2016-05-08     3.0            4           4   \n",
              "17               10        2016-05-08     3.0            4           4   \n",
              "18               10        2016-05-08     3.0            4           4   \n",
              "19               10        2016-05-08     3.0            4           4   \n",
              "20                4        2012-08-26     1.0            2           3   \n",
              "21                5        2013-06-06     2.0            4           1   \n",
              "22                5        2013-06-06     2.0            4           1   \n",
              "23                6        2013-12-23     2.0            5           6   \n",
              "24                6        2013-12-23     2.0            5           6   \n",
              "25                8        2014-04-24     NaN            2           3   \n",
              "\n",
              "    TransactionID_y TransactionDate_y  ProductID_y  Quantity_y  \n",
              "0                 1        2010-08-21            2           1  \n",
              "1                 9        2015-04-24            4           3  \n",
              "2                 1        2010-08-21            2           1  \n",
              "3                 9        2015-04-24            4           3  \n",
              "4                 2        2011-05-26            4           1  \n",
              "5                 3        2011-06-16            3           1  \n",
              "6                 7        2013-12-30            4           1  \n",
              "7                10        2016-05-08            4           4  \n",
              "8                 2        2011-05-26            4           1  \n",
              "9                 3        2011-06-16            3           1  \n",
              "10                7        2013-12-30            4           1  \n",
              "11               10        2016-05-08            4           4  \n",
              "12                2        2011-05-26            4           1  \n",
              "13                3        2011-06-16            3           1  \n",
              "14                7        2013-12-30            4           1  \n",
              "15               10        2016-05-08            4           4  \n",
              "16                2        2011-05-26            4           1  \n",
              "17                3        2011-06-16            3           1  \n",
              "18                7        2013-12-30            4           1  \n",
              "19               10        2016-05-08            4           4  \n",
              "20                4        2012-08-26            2           3  \n",
              "21                5        2013-06-06            4           1  \n",
              "22                6        2013-12-23            5           6  \n",
              "23                5        2013-06-06            4           1  \n",
              "24                6        2013-12-23            5           6  \n",
              "25                8        2014-04-24            2           3  "
            ]
          },
          "metadata": {
            "tags": []
          },
          "execution_count": 34
        }
      ]
    },
    {
      "metadata": {
        "id": "L1g2TO3XwW0-",
        "colab_type": "text"
      },
      "cell_type": "markdown",
      "source": [
        "**Q20. Join each user to his/her first occuring transaction in the transactions table**"
      ]
    },
    {
      "metadata": {
        "id": "WixjhSQUwY9H",
        "colab_type": "code",
        "colab": {
          "autoexec": {
            "startup": false,
            "wait_interval": 0
          },
          "base_uri": "https://localhost:8080/",
          "height": 204
        },
        "outputId": "8e443401-6784-4a5f-d9f8-1b2ebba5064f",
        "executionInfo": {
          "status": "ok",
          "timestamp": 1533030813286,
          "user_tz": -330,
          "elapsed": 2291,
          "user": {
            "displayName": "Rajaram Tripathy",
            "photoUrl": "//lh6.googleusercontent.com/-i36HQO2rFzQ/AAAAAAAAAAI/AAAAAAAAAmk/wo74Cfd039M/s50-c-k-no/photo.jpg",
            "userId": "114877031278411201428"
          }
        }
      },
      "cell_type": "code",
      "source": [
        "#do an left outer join on user and transactions dataframe on the UserID column\n",
        "df_usertran = pd.merge(users,transactions,how='left',on='UserID')\n",
        "# craete a new dataframe df_ with all duplicates on UserID being dropped , only keeping the first entry\n",
        "df_ = df_usertran.drop_duplicates(subset='UserID')\n",
        "#reset the index to the default integer index.\n",
        "df_ = df_.reset_index(drop=True)\n",
        "\n",
        "#display the contents of the dataframe df_\n",
        "df_"
      ],
      "execution_count": 35,
      "outputs": [
        {
          "output_type": "execute_result",
          "data": {
            "text/html": [
              "<div>\n",
              "<style scoped>\n",
              "    .dataframe tbody tr th:only-of-type {\n",
              "        vertical-align: middle;\n",
              "    }\n",
              "\n",
              "    .dataframe tbody tr th {\n",
              "        vertical-align: top;\n",
              "    }\n",
              "\n",
              "    .dataframe thead th {\n",
              "        text-align: right;\n",
              "    }\n",
              "</style>\n",
              "<table border=\"1\" class=\"dataframe\">\n",
              "  <thead>\n",
              "    <tr style=\"text-align: right;\">\n",
              "      <th></th>\n",
              "      <th>UserID</th>\n",
              "      <th>User</th>\n",
              "      <th>Gender</th>\n",
              "      <th>Registered</th>\n",
              "      <th>Cancelled</th>\n",
              "      <th>TransactionID</th>\n",
              "      <th>TransactionDate</th>\n",
              "      <th>ProductID</th>\n",
              "      <th>Quantity</th>\n",
              "    </tr>\n",
              "  </thead>\n",
              "  <tbody>\n",
              "    <tr>\n",
              "      <th>0</th>\n",
              "      <td>1</td>\n",
              "      <td>Charles</td>\n",
              "      <td>male</td>\n",
              "      <td>2012-12-21</td>\n",
              "      <td>NaT</td>\n",
              "      <td>4.0</td>\n",
              "      <td>2012-08-26</td>\n",
              "      <td>2.0</td>\n",
              "      <td>3.0</td>\n",
              "    </tr>\n",
              "    <tr>\n",
              "      <th>1</th>\n",
              "      <td>2</td>\n",
              "      <td>Pedro</td>\n",
              "      <td>male</td>\n",
              "      <td>2010-08-01</td>\n",
              "      <td>2010-08-08</td>\n",
              "      <td>5.0</td>\n",
              "      <td>2013-06-06</td>\n",
              "      <td>4.0</td>\n",
              "      <td>1.0</td>\n",
              "    </tr>\n",
              "    <tr>\n",
              "      <th>2</th>\n",
              "      <td>3</td>\n",
              "      <td>Caroline</td>\n",
              "      <td>female</td>\n",
              "      <td>2012-10-23</td>\n",
              "      <td>2016-06-07</td>\n",
              "      <td>2.0</td>\n",
              "      <td>2011-05-26</td>\n",
              "      <td>4.0</td>\n",
              "      <td>1.0</td>\n",
              "    </tr>\n",
              "    <tr>\n",
              "      <th>3</th>\n",
              "      <td>4</td>\n",
              "      <td>Brielle</td>\n",
              "      <td>female</td>\n",
              "      <td>2013-07-17</td>\n",
              "      <td>NaT</td>\n",
              "      <td>NaN</td>\n",
              "      <td>NaT</td>\n",
              "      <td>NaN</td>\n",
              "      <td>NaN</td>\n",
              "    </tr>\n",
              "    <tr>\n",
              "      <th>4</th>\n",
              "      <td>5</td>\n",
              "      <td>Benjamin</td>\n",
              "      <td>male</td>\n",
              "      <td>2010-11-25</td>\n",
              "      <td>NaT</td>\n",
              "      <td>NaN</td>\n",
              "      <td>NaT</td>\n",
              "      <td>NaN</td>\n",
              "      <td>NaN</td>\n",
              "    </tr>\n",
              "  </tbody>\n",
              "</table>\n",
              "</div>"
            ],
            "text/plain": [
              "  UserID      User  Gender Registered  Cancelled  TransactionID  \\\n",
              "0      1   Charles    male 2012-12-21        NaT            4.0   \n",
              "1      2     Pedro    male 2010-08-01 2010-08-08            5.0   \n",
              "2      3  Caroline  female 2012-10-23 2016-06-07            2.0   \n",
              "3      4   Brielle  female 2013-07-17        NaT            NaN   \n",
              "4      5  Benjamin    male 2010-11-25        NaT            NaN   \n",
              "\n",
              "  TransactionDate  ProductID  Quantity  \n",
              "0      2012-08-26        2.0       3.0  \n",
              "1      2013-06-06        4.0       1.0  \n",
              "2      2011-05-26        4.0       1.0  \n",
              "3             NaT        NaN       NaN  \n",
              "4             NaT        NaN       NaN  "
            ]
          },
          "metadata": {
            "tags": []
          },
          "execution_count": 35
        }
      ]
    },
    {
      "metadata": {
        "id": "zL7aK09-wlnW",
        "colab_type": "text"
      },
      "cell_type": "markdown",
      "source": [
        "**Q21. Test to see if we can drop columns**"
      ]
    },
    {
      "metadata": {
        "id": "31MAyQGkwnxW",
        "colab_type": "code",
        "colab": {
          "autoexec": {
            "startup": false,
            "wait_interval": 0
          },
          "base_uri": "https://localhost:8080/",
          "height": 34
        },
        "outputId": "02d6b92f-6b5b-4db7-e862-2b768a5fdc89",
        "executionInfo": {
          "status": "ok",
          "timestamp": 1533030869282,
          "user_tz": -330,
          "elapsed": 831,
          "user": {
            "displayName": "Rajaram Tripathy",
            "photoUrl": "//lh6.googleusercontent.com/-i36HQO2rFzQ/AAAAAAAAAAI/AAAAAAAAAmk/wo74Cfd039M/s50-c-k-no/photo.jpg",
            "userId": "114877031278411201428"
          }
        }
      },
      "cell_type": "code",
      "source": [
        "#Retieve the column list for the dataframe df_ created in problem statement 20\n",
        "my_columns = list(df_.columns)\n",
        "print(my_columns)"
      ],
      "execution_count": 36,
      "outputs": [
        {
          "output_type": "stream",
          "text": [
            "['UserID', 'User', 'Gender', 'Registered', 'Cancelled', 'TransactionID', 'TransactionDate', 'ProductID', 'Quantity']\n"
          ],
          "name": "stdout"
        }
      ]
    },
    {
      "metadata": {
        "id": "b2O3Krdawszh",
        "colab_type": "code",
        "colab": {
          "autoexec": {
            "startup": false,
            "wait_interval": 0
          },
          "base_uri": "https://localhost:8080/",
          "height": 34
        },
        "outputId": "f872a5fe-200a-4a52-ac79-cc708299d547",
        "executionInfo": {
          "status": "ok",
          "timestamp": 1533030881473,
          "user_tz": -330,
          "elapsed": 800,
          "user": {
            "displayName": "Rajaram Tripathy",
            "photoUrl": "//lh6.googleusercontent.com/-i36HQO2rFzQ/AAAAAAAAAAI/AAAAAAAAAmk/wo74Cfd039M/s50-c-k-no/photo.jpg",
            "userId": "114877031278411201428"
          }
        }
      },
      "cell_type": "code",
      "source": [
        "list(df_.dropna(thresh=int(df_.shape[0] * .9), axis=1).columns) #set threshold to drop NAs"
      ],
      "execution_count": 37,
      "outputs": [
        {
          "output_type": "execute_result",
          "data": {
            "text/plain": [
              "['UserID', 'User', 'Gender', 'Registered']"
            ]
          },
          "metadata": {
            "tags": []
          },
          "execution_count": 37
        }
      ]
    },
    {
      "metadata": {
        "id": "zjuJi-zgwvWo",
        "colab_type": "code",
        "colab": {
          "autoexec": {
            "startup": false,
            "wait_interval": 0
          },
          "base_uri": "https://localhost:8080/",
          "height": 34
        },
        "outputId": "523781bf-a17a-4bdf-e047-6ff31e871a3a",
        "executionInfo": {
          "status": "ok",
          "timestamp": 1533030892704,
          "user_tz": -330,
          "elapsed": 819,
          "user": {
            "displayName": "Rajaram Tripathy",
            "photoUrl": "//lh6.googleusercontent.com/-i36HQO2rFzQ/AAAAAAAAAAI/AAAAAAAAAmk/wo74Cfd039M/s50-c-k-no/photo.jpg",
            "userId": "114877031278411201428"
          }
        }
      },
      "cell_type": "code",
      "source": [
        "missing_info = list(df_.columns[df_.isnull().any()])\n",
        "missing_info"
      ],
      "execution_count": 38,
      "outputs": [
        {
          "output_type": "execute_result",
          "data": {
            "text/plain": [
              "['Cancelled', 'TransactionID', 'TransactionDate', 'ProductID', 'Quantity']"
            ]
          },
          "metadata": {
            "tags": []
          },
          "execution_count": 38
        }
      ]
    },
    {
      "metadata": {
        "id": "enNx-LNbwzMz",
        "colab_type": "code",
        "colab": {
          "autoexec": {
            "startup": false,
            "wait_interval": 0
          },
          "base_uri": "https://localhost:8080/",
          "height": 102
        },
        "outputId": "6e4c61a1-0fa3-4db1-b7e5-35e0e7e98677",
        "executionInfo": {
          "status": "ok",
          "timestamp": 1533030907640,
          "user_tz": -330,
          "elapsed": 812,
          "user": {
            "displayName": "Rajaram Tripathy",
            "photoUrl": "//lh6.googleusercontent.com/-i36HQO2rFzQ/AAAAAAAAAAI/AAAAAAAAAmk/wo74Cfd039M/s50-c-k-no/photo.jpg",
            "userId": "114877031278411201428"
          }
        }
      },
      "cell_type": "code",
      "source": [
        "for col in missing_info:\n",
        "    num_missing = df_[df_[col].isnull() == True].shape[0]\n",
        "    print('number missing for column {}: {}'.format(col, num_missing))"
      ],
      "execution_count": 39,
      "outputs": [
        {
          "output_type": "stream",
          "text": [
            "number missing for column Cancelled: 3\n",
            "number missing for column TransactionID: 2\n",
            "number missing for column TransactionDate: 2\n",
            "number missing for column ProductID: 2\n",
            "number missing for column Quantity: 2\n"
          ],
          "name": "stdout"
        }
      ]
    },
    {
      "metadata": {
        "id": "O6IVATyIw3us",
        "colab_type": "code",
        "colab": {
          "autoexec": {
            "startup": false,
            "wait_interval": 0
          },
          "base_uri": "https://localhost:8080/",
          "height": 187
        },
        "outputId": "67819b30-e1b9-46df-8039-c087c99d6fe5",
        "executionInfo": {
          "status": "ok",
          "timestamp": 1533030926525,
          "user_tz": -330,
          "elapsed": 488,
          "user": {
            "displayName": "Rajaram Tripathy",
            "photoUrl": "//lh6.googleusercontent.com/-i36HQO2rFzQ/AAAAAAAAAAI/AAAAAAAAAmk/wo74Cfd039M/s50-c-k-no/photo.jpg",
            "userId": "114877031278411201428"
          }
        }
      },
      "cell_type": "code",
      "source": [
        "for col in missing_info:\n",
        "    num_missing = df_[df_[col].isnull() == True].shape[0]\n",
        "    print('number missing for column {}: {}'.format(col, num_missing)) #count of missing df_\n",
        "for col in missing_info:\n",
        "    percent_missing = df_[df_[col].isnull() == True].shape[0] / df_.shape[0]\n",
        "    print('percent missing for column {}: {}'.format(col, percent_missing))"
      ],
      "execution_count": 40,
      "outputs": [
        {
          "output_type": "stream",
          "text": [
            "number missing for column Cancelled: 3\n",
            "number missing for column TransactionID: 2\n",
            "number missing for column TransactionDate: 2\n",
            "number missing for column ProductID: 2\n",
            "number missing for column Quantity: 2\n",
            "percent missing for column Cancelled: 0.6\n",
            "percent missing for column TransactionID: 0.4\n",
            "percent missing for column TransactionDate: 0.4\n",
            "percent missing for column ProductID: 0.4\n",
            "percent missing for column Quantity: 0.4\n"
          ],
          "name": "stdout"
        }
      ]
    },
    {
      "metadata": {
        "id": "jg_Epvdevbwm",
        "colab_type": "code",
        "colab": {
          "autoexec": {
            "startup": false,
            "wait_interval": 0
          }
        }
      },
      "cell_type": "code",
      "source": [
        ""
      ],
      "execution_count": 0,
      "outputs": []
    }
  ]
}